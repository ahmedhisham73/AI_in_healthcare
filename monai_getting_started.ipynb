{
  "nbformat": 4,
  "nbformat_minor": 0,
  "metadata": {
    "colab": {
      "name": "monai_getting_started.ipynb",
      "provenance": [],
      "machine_shape": "hm",
      "authorship_tag": "ABX9TyN1KcDrjMYlIlOFDHxp/U7Z",
      "include_colab_link": true
    },
    "kernelspec": {
      "name": "python3",
      "display_name": "Python 3"
    },
    "language_info": {
      "name": "python"
    },
    "accelerator": "GPU"
  },
  "cells": [
    {
      "cell_type": "markdown",
      "metadata": {
        "id": "view-in-github",
        "colab_type": "text"
      },
      "source": [
        "<a href=\"https://colab.research.google.com/github/ahmedhisham73/AI_in_healthcare/blob/main/monai_getting_started.ipynb\" target=\"_parent\"><img src=\"https://colab.research.google.com/assets/colab-badge.svg\" alt=\"Open In Colab\"/></a>"
      ]
    },
    {
      "cell_type": "code",
      "execution_count": 3,
      "metadata": {
        "colab": {
          "base_uri": "https://localhost:8080/"
        },
        "id": "LinYs6LIJnj_",
        "outputId": "355d1944-490e-4a3e-d13f-b86575629e92"
      },
      "outputs": [
        {
          "output_type": "stream",
          "name": "stdout",
          "text": [
            "\u001b[K     |████████████████████████████████| 584 kB 3.9 MB/s \n",
            "\u001b[K     |████████████████████████████████| 221 kB 38.8 MB/s \n",
            "\u001b[?25h"
          ]
        }
      ],
      "source": [
        "\n",
        "!pip install -qU \"monai[ignite, nibabel, torchvision, tqdm]==0.6.0\""
      ]
    },
    {
      "cell_type": "code",
      "source": [
        "!nvidia-smi"
      ],
      "metadata": {
        "colab": {
          "base_uri": "https://localhost:8080/"
        },
        "id": "TQTwTSv7J35O",
        "outputId": "2942cd5b-5331-401d-d696-d57d718fc779"
      },
      "execution_count": 4,
      "outputs": [
        {
          "output_type": "stream",
          "name": "stdout",
          "text": [
            "Thu Dec  9 12:29:12 2021       \n",
            "+-----------------------------------------------------------------------------+\n",
            "| NVIDIA-SMI 495.44       Driver Version: 460.32.03    CUDA Version: 11.2     |\n",
            "|-------------------------------+----------------------+----------------------+\n",
            "| GPU  Name        Persistence-M| Bus-Id        Disp.A | Volatile Uncorr. ECC |\n",
            "| Fan  Temp  Perf  Pwr:Usage/Cap|         Memory-Usage | GPU-Util  Compute M. |\n",
            "|                               |                      |               MIG M. |\n",
            "|===============================+======================+======================|\n",
            "|   0  Tesla P100-PCIE...  Off  | 00000000:00:04.0 Off |                    0 |\n",
            "| N/A   36C    P0    26W / 250W |      0MiB / 16280MiB |      0%      Default |\n",
            "|                               |                      |                  N/A |\n",
            "+-------------------------------+----------------------+----------------------+\n",
            "                                                                               \n",
            "+-----------------------------------------------------------------------------+\n",
            "| Processes:                                                                  |\n",
            "|  GPU   GI   CI        PID   Type   Process name                  GPU Memory |\n",
            "|        ID   ID                                                   Usage      |\n",
            "|=============================================================================|\n",
            "|  No running processes found                                                 |\n",
            "+-----------------------------------------------------------------------------+\n"
          ]
        }
      ]
    },
    {
      "cell_type": "code",
      "source": [
        "import tempfile\n",
        "import nibabel as nib\n",
        "import numpy as np\n",
        "import matplotlib.pyplot as plt\n",
        "from typing import Optional, Any, Mapping, Hashable\n",
        "\n",
        "import monai\n",
        "from monai.config import print_config\n",
        "from monai.utils import first\n",
        "from monai.config import KeysCollection\n",
        "from monai.data import Dataset, ArrayDataset, create_test_image_3d, DataLoader\n",
        "from monai.transforms import (\n",
        "    Transform,\n",
        "    MapTransform,\n",
        "    Randomizable,\n",
        "    AddChannel,\n",
        "    AddChanneld,\n",
        "    Compose,\n",
        "    LoadImage,\n",
        "    LoadImaged,\n",
        "    Lambda,\n",
        "    Lambdad,\n",
        "    RandSpatialCrop,\n",
        "    RandSpatialCropd,\n",
        "    ToTensor,\n",
        "    ToTensord,\n",
        "    Orientation, \n",
        "    Rotate\n",
        ")\n",
        "print_config()"
      ],
      "metadata": {
        "colab": {
          "base_uri": "https://localhost:8080/"
        },
        "id": "Jd6gN0hYJ-DT",
        "outputId": "39e9309d-f438-48b6-f1f5-d6e0b4c321fc"
      },
      "execution_count": 5,
      "outputs": [
        {
          "output_type": "stream",
          "name": "stdout",
          "text": [
            "MONAI version: 0.6.0\n",
            "Numpy version: 1.19.5\n",
            "Pytorch version: 1.10.0+cu111\n",
            "MONAI flags: HAS_EXT = False, USE_COMPILED = False\n",
            "MONAI rev id: 0ad9e73639e30f4f1af5a1f4a45da9cb09930179\n",
            "\n",
            "Optional dependencies:\n",
            "Pytorch Ignite version: 0.4.5\n",
            "Nibabel version: 3.0.2\n",
            "scikit-image version: 0.18.3\n",
            "Pillow version: 7.1.2\n",
            "Tensorboard version: 2.7.0\n",
            "gdown version: 3.6.4\n",
            "TorchVision version: 0.11.1+cu111\n",
            "ITK version: NOT INSTALLED or UNKNOWN VERSION.\n",
            "tqdm version: 4.62.3\n",
            "lmdb version: 0.99\n",
            "psutil version: 5.4.8\n",
            "pandas version: 1.1.5\n",
            "einops version: NOT INSTALLED or UNKNOWN VERSION.\n",
            "\n",
            "For details about installing the optional dependencies, please visit:\n",
            "    https://docs.monai.io/en/latest/installation.html#installing-the-recommended-dependencies\n",
            "\n"
          ]
        }
      ]
    },
    {
      "cell_type": "code",
      "source": [
        ""
      ],
      "metadata": {
        "id": "U__M7G5MKiUP"
      },
      "execution_count": null,
      "outputs": []
    },
    {
      "cell_type": "markdown",
      "source": [
        "MONAI aims at providing a comprehensive medical image specific transformations. These currently include, for example:\n",
        "\n",
        "- LoadImage: Load medical specific formats file from provided path\n",
        "- Spacing: Resample input image into the specified pixdim\n",
        "- Orientation: Change the image’s orientation into the specified axcodes\n",
        "- RandGaussianNoise: Perturb image intensities by adding statistical noises\n",
        "- NormalizeIntensity: Intensity Normalization based on mean and standard deviation\n",
        "- Affine: Transform image based on the affine parameters\n",
        "- Rand2DElastic: Random elastic deformation and affine in 2D\n",
        "- Rand3DElastic: Random elastic deformation and affine in 3D"
      ],
      "metadata": {
        "id": "2WFvduP7LOU_"
      }
    },
    {
      "cell_type": "code",
      "source": [
        "#set file names \n",
        "fn_keys=('img','seg')"
      ],
      "metadata": {
        "id": "AWhS-B6fLPBA"
      },
      "execution_count": 6,
      "outputs": []
    },
    {
      "cell_type": "code",
      "source": [
        "#create a root file directory \n",
        "root_dir = tempfile.mkdtemp()\n",
        "filenames = []"
      ],
      "metadata": {
        "id": "MSzDW7TqLas2"
      },
      "execution_count": 7,
      "outputs": []
    },
    {
      "cell_type": "code",
      "source": [
        "for i in range(5):\n",
        "    im, seg = create_test_image_3d(256, 256, 256, num_objs=25, rad_max=50)\n",
        "\n",
        "    im_filename = f\"{root_dir}/im{i}.nii.gz\"\n",
        "    seg_filename = f\"{root_dir}/seg{i}.nii.gz\"\n",
        "    filenames.append({\"img\": im_filename, \"seg\": seg_filename})\n",
        "\n",
        "    n = nib.Nifti1Image(im, np.eye(4))\n",
        "    nib.save(n, im_filename)\n",
        "\n",
        "    n = nib.Nifti1Image(seg, np.eye(4))\n",
        "    nib.save(n, seg_filename)"
      ],
      "metadata": {
        "id": "aPGG2bjfLiqw"
      },
      "execution_count": 8,
      "outputs": []
    },
    {
      "cell_type": "markdown",
      "source": [
        "Transforms in MONAI are callable objects accepting inputs from initial data in a dataset or previous transforms. \n",
        "\n",
        "\n",
        "We can create and call these directly without any infrastructure or system setup as components in MONAI are designed to be as decoupled as possible. For example we can load one of our Nifti files directly by creating the transform and calling it.\n",
        "\n",
        "\n",
        "\n",
        "Transforms are composed with Compose to create a sequence of operations\n",
        "\n",
        "Compose itself being a transform we can also call it directly. \n",
        "\n",
        "\n",
        "\n",
        "The type of img here is numpy.ndarray so to convert to a Pytorch tensor as part of a training data pipeline we'd have ToTensor as the last transform in our sequence"
      ],
      "metadata": {
        "id": "3nz556HALxge"
      }
    },
    {
      "cell_type": "code",
      "source": [
        "trans = Compose([LoadImage(image_only=True), AddChannel(), ToTensor()])"
      ],
      "metadata": {
        "id": "mLoUZj6CMApQ"
      },
      "execution_count": 9,
      "outputs": []
    },
    {
      "cell_type": "code",
      "source": [
        "img = trans(filenames[0][\"img\"])\n",
        "print(type(img), img.shape, img.get_device())"
      ],
      "metadata": {
        "colab": {
          "base_uri": "https://localhost:8080/"
        },
        "id": "eJnxeuYVMETy",
        "outputId": "279d34c4-3204-4e50-8406-8022110cbb7c"
      },
      "execution_count": 10,
      "outputs": [
        {
          "output_type": "stream",
          "name": "stdout",
          "text": [
            "<class 'torch.Tensor'> torch.Size([1, 256, 256, 256]) -1\n"
          ]
        }
      ]
    },
    {
      "cell_type": "markdown",
      "source": [
        "We can define our own custom transform operation in a number of ways. If a simple callable is used as an operator, Lambda can be used to wrap it as a transform. We define in this example a transform to sum the image in the 1st (width) dimension to produce a 2D image:"
      ],
      "metadata": {
        "id": "fI5TMUQXMNoa"
      }
    },
    {
      "cell_type": "code",
      "source": [
        "def sum_width(img):\n",
        "    return img.sum(1)\n",
        "\n",
        "trans = Compose([LoadImage(image_only=True), AddChannel(), Lambda(sum_width)])\n",
        "img = trans(filenames[0][\"img\"])\n",
        "plt.imshow(img[0])"
      ],
      "metadata": {
        "colab": {
          "base_uri": "https://localhost:8080/",
          "height": 286
        },
        "id": "gUVQ0ooNMOT5",
        "outputId": "a06c12ab-d5cb-4e00-90c8-f06421c85025"
      },
      "execution_count": 11,
      "outputs": [
        {
          "output_type": "execute_result",
          "data": {
            "text/plain": [
              "<matplotlib.image.AxesImage at 0x7f7335ee8350>"
            ]
          },
          "metadata": {},
          "execution_count": 11
        },
        {
          "output_type": "display_data",
          "data": {
            "image/png": "[encoded data removed]",
            "text/plain": [
              "<Figure size 432x288 with 1 Axes>"
            ]
          },
          "metadata": {
            "needs_background": "light"
          }
        }
      ]
    },
    {
      "cell_type": "markdown",
      "source": [
        "Creating a subclass of Transform is the second method, and this has the advantage of being able to define attributes with the instantiated objects. Let's define a class to sum in a chosen dimension, and use it to sum in the 2nd (height) dimension:"
      ],
      "metadata": {
        "id": "N0BmUACAMbdV"
      }
    },
    {
      "cell_type": "code",
      "source": [
        "class SumDimension(Transform):\n",
        "    def __init__(self, dim=1):\n",
        "        self.dim = dim\n",
        "\n",
        "    def __call__(self, inputs):\n",
        "        return inputs.sum(self.dim)\n",
        "\n",
        "trans = Compose([LoadImage(image_only=True), AddChannel(), SumDimension(2)])\n",
        "img = trans(filenames[0][\"img\"])\n",
        "plt.imshow(img[0])"
      ],
      "metadata": {
        "colab": {
          "base_uri": "https://localhost:8080/",
          "height": 286
        },
        "id": "Xgfh-FFXMcFj",
        "outputId": "4a9836da-9faf-45ee-fb64-9bcf43ff3def"
      },
      "execution_count": 12,
      "outputs": [
        {
          "output_type": "execute_result",
          "data": {
            "text/plain": [
              "<matplotlib.image.AxesImage at 0x7f73359691d0>"
            ]
          },
          "metadata": {},
          "execution_count": 12
        },
        {
          "output_type": "display_data",
          "data": {
            "image/png": "[encoded data removed]",
            "text/plain": [
              "<Figure size 432x288 with 1 Axes>"
            ]
          },
          "metadata": {
            "needs_background": "light"
          }
        }
      ]
    },
    {
      "cell_type": "markdown",
      "source": [
        "All of these example transforms so far have been deterministic, to define transforms which perform some stochastic operation on input data we want to also inherit from Randomizable. This class is used to randomize variables but also distinguish from deterministic transforms. We'll see why this is important later in caching data loaders.\n",
        "\n",
        "In this class we have a numpy.random.RandomState object to provide stochastic values. This can be replaced using Randomizable.set_random_state() to control the randomization process. The randomize() method is responsible for determining if the random operation is to be performed based on the prob probability member, then creates the random noise array if so. This functionality is in this method so that it can be called by Compose or other external controllers.\n",
        "\n",
        "For now lets define a simple transform to add noise."
      ],
      "metadata": {
        "id": "hJnfH5dYMrOf"
      }
    },
    {
      "cell_type": "code",
      "source": [
        "class RandAdditiveNoise(Randomizable, Transform):\n",
        "    def __init__(self, prob: float = 0.5, max_add: float = 1.0) -> None:\n",
        "        self.prob = np.clip(prob, 0.0, 1.0)\n",
        "        self.max_add = max_add\n",
        "        self._noise = 0\n",
        "\n",
        "    def randomize(self, data: np.ndarray) -> None:\n",
        "        self._noise = 0\n",
        "\n",
        "        if self.R.random() < self.prob:\n",
        "            noise_array = self.R.rand(*data.shape[1:])[None]\n",
        "            self._noise = (noise_array * self.max_add).astype(data.dtype)\n",
        "\n",
        "    def add_noise(self, img: np.ndarray) -> np.ndarray:\n",
        "        return img + self._noise\n",
        "\n",
        "    def __call__(self, img: np.ndarray) -> np.ndarray:\n",
        "        self.randomize(img)\n",
        "        return self.add_noise(img)\n",
        "\n",
        "trans = Compose([LoadImage(image_only=True), AddChannel(), RandAdditiveNoise()])\n",
        "img = trans(filenames[0][\"img\"])\n",
        "plt.imshow(img[0, 128])"
      ],
      "metadata": {
        "colab": {
          "base_uri": "https://localhost:8080/",
          "height": 286
        },
        "id": "9Z2Y6QxDMrxx",
        "outputId": "b40fca70-421d-42b6-9e80-b28e9cbec2ff"
      },
      "execution_count": 13,
      "outputs": [
        {
          "output_type": "execute_result",
          "data": {
            "text/plain": [
              "<matplotlib.image.AxesImage at 0x7f73358e3e50>"
            ]
          },
          "metadata": {},
          "execution_count": 13
        },
        {
          "output_type": "display_data",
          "data": {
            "image/png": "[encoded data removed]",
            "text/plain": [
              "<Figure size 432x288 with 1 Axes>"
            ]
          },
          "metadata": {
            "needs_background": "light"
          }
        }
      ]
    },
    {
      "cell_type": "markdown",
      "source": [
        "So far we have seen transforms which are applied to individual Numpy arrays, however for most training schemes a pipeline with multiple values is needed. To address this MONAI includes transforms for operating on dictionaries of arrays, one for each equivalent array transform. These can be applied to named values in an input dictionary while leaving unnamed values untouched, for example adding noise to an image while leaving the associated label image untouched."
      ],
      "metadata": {
        "id": "3KZmSUAXNMW1"
      }
    },
    {
      "cell_type": "markdown",
      "source": [
        "Earlier in the notebook we imported the dictionary equivalent transforms which have a d appended to their names, we'll use those transforms in this section. The keys argument in LoadNiftid is used to state which keys contain paths to Nifti files, all other values in the input dictionary will be retained. With this set we can look at the keys returned when calling the transform:"
      ],
      "metadata": {
        "id": "S3PEaxnLNOB-"
      }
    },
    {
      "cell_type": "code",
      "source": [
        "trans = LoadImaged(keys=fn_keys)\n",
        "data = trans(filenames[0])\n",
        "print(list(data.keys()))"
      ],
      "metadata": {
        "colab": {
          "base_uri": "https://localhost:8080/"
        },
        "id": "H87Y-fSoNSJZ",
        "outputId": "1f67ba12-98aa-4aa7-ae22-cbcd1b130222"
      },
      "execution_count": 14,
      "outputs": [
        {
          "output_type": "stream",
          "name": "stdout",
          "text": [
            "['img', 'seg', 'img_meta_dict', 'seg_meta_dict']\n"
          ]
        }
      ]
    },
    {
      "cell_type": "markdown",
      "source": [
        "Lambdad applies the given callable to each array named by keys separately. We can use this to define transforms operating on different named values in the dictionary at different points in the sequence:"
      ],
      "metadata": {
        "id": "fCs0rZU9NjOq"
      }
    },
    {
      "cell_type": "code",
      "source": [
        "def sum_width(img):\n",
        "    return img.sum(1)\n",
        "\n",
        "def max_width(img):\n",
        "    return img.max(1)\n",
        "\n",
        "trans = Compose([LoadImaged(fn_keys), AddChanneld(fn_keys), Lambdad((\"img\",), sum_width), \n",
        "                 Lambdad((\"seg\",), max_width)])\n",
        "\n",
        "imgd = trans(filenames[0])\n",
        "img = imgd[\"img\"]\n",
        "seg = imgd[\"seg\"]\n",
        "\n",
        "plt.imshow(np.hstack((img[0] * 5 / img.max(), seg[0])))"
      ],
      "metadata": {
        "colab": {
          "base_uri": "https://localhost:8080/",
          "height": 236
        },
        "id": "GmcadfyuNjxG",
        "outputId": "f7f493f5-9c5f-4740-deae-7e33a4dcbcde"
      },
      "execution_count": 15,
      "outputs": [
        {
          "output_type": "execute_result",
          "data": {
            "text/plain": [
              "<matplotlib.image.AxesImage at 0x7f73358699d0>"
            ]
          },
          "metadata": {},
          "execution_count": 15
        },
        {
          "output_type": "display_data",
          "data": {
            "image/png": "[encoded data removed]",
            "text/plain": [
              "<Figure size 432x288 with 1 Axes>"
            ]
          },
          "metadata": {
            "needs_background": "light"
          }
        }
      ]
    },
    {
      "cell_type": "markdown",
      "source": [
        "set_random_state sets the state of the delegate and the current object\n",
        "randomize delegates the randomization to the RandAdditiveNoise instance\n",
        "__call__ causes the delegate to randomize then applies the transform to each named member of the dictionary. The delegate transform is randomized only once, this ensures the same random field is added to each named member of the dictionary, a slightly different implementation adding a per-key random field would be needed if this were the desired behaviou"
      ],
      "metadata": {
        "id": "OOJf2GFhN-04"
      }
    },
    {
      "cell_type": "code",
      "source": [
        "class RandAdditiveNoised(Randomizable, MapTransform):\n",
        "    def __init__(\n",
        "        self, keys: KeysCollection, prob: float = 0.5, max_add: float = 1.0\n",
        "    ) -> None:\n",
        "        super(Randomizable, self).__init__(keys)\n",
        "        self.transform = RandAdditiveNoise(prob, max_add)\n",
        "\n",
        "    def set_random_state(\n",
        "        self, seed: Optional[int] = 1, state: Optional[np.random.RandomState] = None\n",
        "    ) -> \"RandAdditiveNoised\":\n",
        "        self.transform.set_random_state(seed, state)\n",
        "        super().set_random_state(seed, state)\n",
        "        return self\n",
        "\n",
        "    def randomize(self, data: Optional[Any] = None) -> None:\n",
        "        self.transform.randomize(data)\n",
        "\n",
        "    def __call__(\n",
        "        self, data: Mapping[Hashable, np.ndarray]\n",
        "    ) -> Mapping[Hashable, np.ndarray]:\n",
        "        self.randomize(data[monai.utils.first(self.keys)])\n",
        "\n",
        "        d = dict(data)\n",
        "        for key in self.keys:\n",
        "            d[key] = self.transform.add_noise(d[key])\n",
        "        return d\n",
        "\n",
        "trans = Compose([LoadImaged(fn_keys), AddChanneld(fn_keys), RandAdditiveNoised((\"img\",))])\n",
        "img = trans(filenames[0])\n",
        "\n",
        "# We're adding random noise to the image, not the segmentation\n",
        "plt.imshow(np.hstack([img[\"img\"][0, 50], img[\"seg\"][0, 50]])) "
      ],
      "metadata": {
        "colab": {
          "base_uri": "https://localhost:8080/",
          "height": 236
        },
        "id": "uYNg8jpLNoqO",
        "outputId": "9c658838-a061-47db-815a-fc646a49d5ee"
      },
      "execution_count": 17,
      "outputs": [
        {
          "output_type": "execute_result",
          "data": {
            "text/plain": [
              "<matplotlib.image.AxesImage at 0x7f73358b7510>"
            ]
          },
          "metadata": {},
          "execution_count": 17
        },
        {
          "output_type": "display_data",
          "data": {
            "image/png": "[encoded data removed]",
            "text/plain": [
              "<Figure size 432x288 with 1 Axes>"
            ]
          },
          "metadata": {
            "needs_background": "light"
          }
        }
      ]
    },
    {
      "cell_type": "code",
      "source": [
        "images = [fn[\"img\"] for fn in filenames]\n",
        "\n",
        "transform = Compose([LoadImage(image_only=True), AddChannel(), ToTensor()])\n",
        "ds = Dataset(images, transform)\n",
        "img_tensor = ds[0]\n",
        "print(img_tensor.shape, img_tensor.get_device())"
      ],
      "metadata": {
        "colab": {
          "base_uri": "https://localhost:8080/"
        },
        "id": "kU23ABlGN3p_",
        "outputId": "9383fd92-7839-4b2e-d29b-e5059e79665c"
      },
      "execution_count": 18,
      "outputs": [
        {
          "output_type": "stream",
          "name": "stdout",
          "text": [
            "torch.Size([1, 256, 256, 256]) -1\n"
          ]
        }
      ]
    },
    {
      "cell_type": "code",
      "source": [
        "images = [fn[\"img\"] for fn in filenames]\n",
        "segs = [fn[\"seg\"] for fn in filenames]\n",
        "\n",
        "img_transform = Compose([LoadImage(image_only=True), AddChannel(), \n",
        "                         RandSpatialCrop((128, 128, 128), random_size=False), RandAdditiveNoise(), ToTensor()])\n",
        "seg_transform = Compose([LoadImage(image_only=True), AddChannel(), \n",
        "                         RandSpatialCrop((128, 128, 128), random_size=False), ToTensor()])\n",
        "\n",
        "ds = ArrayDataset(images, img_transform, segs, seg_transform)\n",
        "im, seg = ds[2]\n",
        "plt.imshow(np.hstack([im.numpy()[0, 48], seg.numpy()[0, 48]]))"
      ],
      "metadata": {
        "colab": {
          "base_uri": "https://localhost:8080/",
          "height": 236
        },
        "id": "zGE5tcVFOKuo",
        "outputId": "84a1745b-47ca-4aa3-f0c4-b6df7fd1c150"
      },
      "execution_count": 20,
      "outputs": [
        {
          "output_type": "execute_result",
          "data": {
            "text/plain": [
              "<matplotlib.image.AxesImage at 0x7f7333e7e110>"
            ]
          },
          "metadata": {},
          "execution_count": 20
        },
        {
          "output_type": "display_data",
          "data": {
            "image/png": "[encoded data removed]",
            "text/plain": [
              "<Figure size 432x288 with 1 Axes>"
            ]
          },
          "metadata": {
            "needs_background": "light"
          }
        }
      ]
    },
    {
      "cell_type": "code",
      "source": [
        "#or \n",
        "\n",
        "trans = Compose([LoadImaged(fn_keys), AddChanneld(fn_keys), RandAdditiveNoised((\"img\",)), \n",
        "                 RandSpatialCropd(fn_keys, (128, 128, 128), random_size=False), ToTensord(fn_keys)])\n",
        "\n",
        "ds = Dataset(filenames, trans)\n",
        "item = ds[0]\n",
        "im, seg = item[\"img\"], item[\"seg\"]\n",
        "plt.imshow(np.hstack([im.numpy()[0, 48], seg.numpy()[0, 48]]))"
      ],
      "metadata": {
        "colab": {
          "base_uri": "https://localhost:8080/",
          "height": 236
        },
        "id": "KNuRr21tOV6r",
        "outputId": "99a6d143-35cf-4f35-dfc9-3520dc93ee1d"
      },
      "execution_count": 21,
      "outputs": [
        {
          "output_type": "execute_result",
          "data": {
            "text/plain": [
              "<matplotlib.image.AxesImage at 0x7f7333de9890>"
            ]
          },
          "metadata": {},
          "execution_count": 21
        },
        {
          "output_type": "display_data",
          "data": {
            "image/png": "[encoded data removed]",
            "text/plain": [
              "<Figure size 432x288 with 1 Axes>"
            ]
          },
          "metadata": {
            "needs_background": "light"
          }
        }
      ]
    },
    {
      "cell_type": "markdown",
      "source": [
        "DataLoader will use five worker processes to load the actual data. MONAI provides a number of Dataset subclasses to improve the efficiency of this process. These and other features will be covered in subsequent labs."
      ],
      "metadata": {
        "id": "w_WLchzAOoML"
      }
    },
    {
      "cell_type": "code",
      "source": [
        "loader = DataLoader(ds, batch_size=5, num_workers=5)\n",
        "batch = first(loader)\n",
        "print(list(batch.keys()), batch[\"img\"].shape)\n",
        "\n",
        "f, ax = plt.subplots(2, 1, figsize=(8, 4))\n",
        "ax[0].imshow(np.hstack(batch[\"img\"][:, 0, 64]))\n",
        "ax[1].imshow(np.hstack(batch[\"seg\"][:, 0, 64]))"
      ],
      "metadata": {
        "colab": {
          "base_uri": "https://localhost:8080/",
          "height": 346
        },
        "id": "l9W1_NKIOoq6",
        "outputId": "a8bc52da-5a13-4e8e-ce10-b6994ed770a8"
      },
      "execution_count": 22,
      "outputs": [
        {
          "output_type": "stream",
          "name": "stderr",
          "text": [
            "/usr/local/lib/python3.7/dist-packages/torch/utils/data/dataloader.py:481: UserWarning: This DataLoader will create 5 worker processes in total. Our suggested max number of worker in current system is 4, which is smaller than what this DataLoader is going to create. Please be aware that excessive worker creation might get DataLoader running slow or even freeze, lower the worker number to avoid potential slowness/freeze if necessary.\n",
            "  cpuset_checked))\n"
          ]
        },
        {
          "output_type": "stream",
          "name": "stdout",
          "text": [
            "['img', 'seg', 'img_meta_dict', 'seg_meta_dict', 'img_transforms', 'seg_transforms'] torch.Size([5, 1, 128, 128, 128])\n"
          ]
        },
        {
          "output_type": "execute_result",
          "data": {
            "text/plain": [
              "<matplotlib.image.AxesImage at 0x7f73c63329d0>"
            ]
          },
          "metadata": {},
          "execution_count": 22
        },
        {
          "output_type": "display_data",
          "data": {
            "image/png": "[encoded data removed]",
            "text/plain": [
              "<Figure size 576x288 with 2 Axes>"
            ]
          },
          "metadata": {
            "needs_background": "light"
          }
        }
      ]
    },
    {
      "cell_type": "markdown",
      "source": [
        "Create a transform which selects a patch from an input image of a given size and randomly chooses to transpose this data along randomly chosen axes. For example, this could produce an image where a patch in the center has been flipped in the horizontal direction while the rest of the image is left unchanged."
      ],
      "metadata": {
        "id": "m2VgKXkHPDEm"
      }
    },
    {
      "cell_type": "code",
      "source": [
        "class RandFlipRect(Randomizable, Transform):\n",
        "    \"\"\"\n",
        "    Define a transform to randomly transpose a patch of the input image along randomly chosen spatial dimensions. This \n",
        "    uses arguments `prob` for the probability the transform is applied, and `size` giving the size of the cube to flip.\n",
        "    \"\"\"\n",
        "    \n",
        "\n",
        "\n",
        "\n",
        "    def __init__(self, prob: float = 0.4, size: int = 100) -> None:\n",
        "        self.prob = np.clip(prob, 0.0, 1.0)\n",
        "        self.size = size\n",
        "\n",
        "    def random_flip(self, data: np.ndarray) -> None:\n",
        "        if self.R.random() < self.prob:\n",
        "            height = data.shape[1]\n",
        "            width = data.shape[2]\n",
        "            depth = data.shape[3]\n",
        "            \n",
        "            x = self.R.randint(0, height - self.size)\n",
        "            y = self.R.randint(0, width - self.size)\n",
        "            z = self.R.randint(0, depth - self.size)\n",
        "            patch = data[..., x: x + self.size , y: y + self.size, z: z + self.size]\n",
        "            \n",
        "            if self.R.random() < 0.333:\n",
        "                patch=patch[...,::-1,:,:]\n",
        "                \n",
        "            if self.R.random() < 0.333:\n",
        "                patch=patch[...,::-1,:]\n",
        "                \n",
        "            if self.R.random() < 0.333:\n",
        "                patch=patch[...,::-1]\n",
        "                \n",
        "            data[..., x: x + self.size , y: y + self.size, z: z + self.size]=patch\n",
        "            \n",
        "        return data\n",
        "\n",
        "    def __call__(self, img: np.ndarray) -> np.ndarray:\n",
        "        return self.random_flip(img)\n",
        "    \n",
        "trans = Compose([LoadImage(image_only=True), AddChannel(), RandFlipRect()])\n",
        "img = trans(filenames[0][\"img\"])\n",
        "plt.imshow(img[0, img.shape[1]//2])"
      ],
      "metadata": {
        "colab": {
          "base_uri": "https://localhost:8080/",
          "height": 286
        },
        "id": "lSNuSzc1Ou8v",
        "outputId": "9c1a46b4-5d44-492c-a758-74b149ba5315"
      },
      "execution_count": 25,
      "outputs": [
        {
          "output_type": "execute_result",
          "data": {
            "text/plain": [
              "<matplotlib.image.AxesImage at 0x7f73c60eaa50>"
            ]
          },
          "metadata": {},
          "execution_count": 25
        },
        {
          "output_type": "display_data",
          "data": {
            "image/png": "[encoded data removed]",
            "text/plain": [
              "<Figure size 432x288 with 1 Axes>"
            ]
          },
          "metadata": {
            "needs_background": "light"
          }
        }
      ]
    },
    {
      "cell_type": "code",
      "source": [
        "import torch\n",
        "import torch\n",
        "from monai.transforms import LoadImaged, CenterSpatialCropd, AddChanneld, ScaleIntensityd, CastToTyped, ToTensord\n",
        "\n",
        "\n",
        "trans = Compose(\n",
        "   [ LoadImaged(fn_keys, image_only=True),\n",
        "        AddChanneld(fn_keys),\n",
        "        CenterSpatialCropd(fn_keys, 200),\n",
        "        ScaleIntensityd([\"img\"]),\n",
        "        CastToTyped(fn_keys, (np.float32, np.int32)),\n",
        "        ToTensord(fn_keys),]\n",
        "    \n",
        ")\n",
        "\n",
        "data = trans(filenames[0])\n",
        "img = data[\"img\"]\n",
        "seg = data[\"seg\"]\n",
        "\n",
        "print(img.shape)  # should be (1, 200, 200, 200)\n",
        "print(img.dtype, seg.dtype)  # should be float32  int32\n",
        "print(img.min(), img.max())  # should be 0.0 1.0\n",
        "print(torch.unique(seg))  # should be [0 1 2 3 4 5]\n",
        "\n",
        "plt.imshow(img[0, img.shape[1] // 2])\n",
        "\n",
        "# construct dataset and dataloder here and iterate over batches, batch_size of 1 should be used\n",
        "\n",
        "\n",
        "ds = Dataset(filenames,transform=trans)\n",
        "loader= DataLoader(ds,batch_size=3)\n",
        "for batch in loader:\n",
        "    img = batch[\"img\"]\n",
        "    seg = batch[\"seg\"]\n",
        "\n",
        "    print(img.shape)  # should be (3, 1, 200, 200, 200) and (2, 1, 200, 200, 200) - first batch has 3, second has 2.\n",
        "    print(img.dtype, seg.dtype)  # should be float32  int32\n",
        "    print(img.min(), img.max())  # should be 0.0 1.0\n",
        "    print(torch.unique(seg))  # should be [0 1 2 3 4 5]    "
      ],
      "metadata": {
        "colab": {
          "base_uri": "https://localhost:8080/",
          "height": 470
        },
        "id": "YgkpmpzDQVMH",
        "outputId": "a3bdd59f-2c86-40d2-acc1-d8798d0ed971"
      },
      "execution_count": 27,
      "outputs": [
        {
          "output_type": "stream",
          "name": "stdout",
          "text": [
            "torch.Size([1, 200, 200, 200])\n",
            "torch.float32 torch.int32\n",
            "tensor(0.) tensor(1.)\n",
            "tensor([0, 1, 2, 3, 4, 5], dtype=torch.int32)\n",
            "torch.Size([3, 1, 200, 200, 200])\n",
            "torch.float32 torch.int32\n",
            "tensor(0.) tensor(1.)\n",
            "tensor([0, 1, 2, 3, 4, 5], dtype=torch.int32)\n",
            "torch.Size([2, 1, 200, 200, 200])\n",
            "torch.float32 torch.int32\n",
            "tensor(0.) tensor(1.)\n",
            "tensor([0, 1, 2, 3, 4, 5], dtype=torch.int32)\n"
          ]
        },
        {
          "output_type": "display_data",
          "data": {
            "image/png": "[encoded data removed]",
            "text/plain": [
              "<Figure size 432x288 with 1 Axes>"
            ]
          },
          "metadata": {
            "needs_background": "light"
          }
        }
      ]
    },
    {
      "cell_type": "code",
      "source": [
        "#datasets \n",
        "\n",
        "import time\n",
        "import torch\n",
        "\n",
        "import monai\n",
        "from monai.config import print_config\n",
        "from monai.data import Dataset, DataLoader, CacheDataset, PersistentDataset, SmartCacheDataset\n",
        "from monai.apps import DecathlonDataset\n",
        "from monai.transforms import (\n",
        "    MapTransform,\n",
        ")\n",
        "\n",
        "print_config()"
      ],
      "metadata": {
        "colab": {
          "base_uri": "https://localhost:8080/"
        },
        "id": "g9p0TUZoRMuL",
        "outputId": "cd2d1e9b-98c5-443f-8924-623c97418b2a"
      },
      "execution_count": 28,
      "outputs": [
        {
          "output_type": "stream",
          "name": "stdout",
          "text": [
            "MONAI version: 0.6.0\n",
            "Numpy version: 1.19.5\n",
            "Pytorch version: 1.10.0+cu111\n",
            "MONAI flags: HAS_EXT = False, USE_COMPILED = False\n",
            "MONAI rev id: 0ad9e73639e30f4f1af5a1f4a45da9cb09930179\n",
            "\n",
            "Optional dependencies:\n",
            "Pytorch Ignite version: 0.4.5\n",
            "Nibabel version: 3.0.2\n",
            "scikit-image version: 0.18.3\n",
            "Pillow version: 7.1.2\n",
            "Tensorboard version: 2.7.0\n",
            "gdown version: 3.6.4\n",
            "TorchVision version: 0.11.1+cu111\n",
            "ITK version: NOT INSTALLED or UNKNOWN VERSION.\n",
            "tqdm version: 4.62.3\n",
            "lmdb version: 0.99\n",
            "psutil version: 5.4.8\n",
            "pandas version: 1.1.5\n",
            "einops version: NOT INSTALLED or UNKNOWN VERSION.\n",
            "\n",
            "For details about installing the optional dependencies, please visit:\n",
            "    https://docs.monai.io/en/latest/installation.html#installing-the-recommended-dependencies\n",
            "\n"
          ]
        }
      ]
    },
    {
      "cell_type": "markdown",
      "source": [
        "A MONAI Dataset is a generic dataset with a len property, getitem property, and an optional callable data transform when fetching a data sample.\n",
        "\n",
        "We'll start by initializing some generic data, calling the Dataset class with the generic data, and specifying None for our transforms.\n",
        "\n"
      ],
      "metadata": {
        "id": "9aw5k0b3RfsW"
      }
    },
    {
      "cell_type": "code",
      "source": [
        "items = [{\"data\": 4}, \n",
        "         {\"data\": 9}, \n",
        "         {\"data\": 3}, \n",
        "         {\"data\": 7}, \n",
        "         {\"data\": 1},\n",
        "         {\"data\": 2},\n",
        "         {\"data\": 5}]\n",
        "dataset = monai.data.Dataset(items, transform=None)"
      ],
      "metadata": {
        "id": "WfQxGWvKRgNe"
      },
      "execution_count": 29,
      "outputs": []
    },
    {
      "cell_type": "code",
      "source": [
        "print(f\"Length of dataset is {len(dataset)}\")\n",
        "for item in dataset:\n",
        "    print(item)"
      ],
      "metadata": {
        "colab": {
          "base_uri": "https://localhost:8080/"
        },
        "id": "_sQcaQpaRkKN",
        "outputId": "9af492cf-66e4-4437-b7d9-0b08923f4d00"
      },
      "execution_count": 30,
      "outputs": [
        {
          "output_type": "stream",
          "name": "stdout",
          "text": [
            "Length of dataset is 7\n",
            "{'data': 4}\n",
            "{'data': 9}\n",
            "{'data': 3}\n",
            "{'data': 7}\n",
            "{'data': 1}\n",
            "{'data': 2}\n",
            "{'data': 5}\n"
          ]
        }
      ]
    },
    {
      "cell_type": "markdown",
      "source": [
        "Compatible with the PyTorch DataLoader\n",
        "MONAI functionality should be compatible with the PyTorch DataLoader, although free to subclass from it if there is additional functionality that we consider key, which cannot be realized with the standard DataLoader class."
      ],
      "metadata": {
        "id": "Xl16W2PYRtuN"
      }
    },
    {
      "cell_type": "code",
      "source": [
        "for item in torch.utils.data.DataLoader(dataset, batch_size=2):\n",
        "    print(item)"
      ],
      "metadata": {
        "colab": {
          "base_uri": "https://localhost:8080/"
        },
        "id": "uZij_jkWRuL1",
        "outputId": "f40e389f-2c9e-48e8-aa50-b7def4bc982c"
      },
      "execution_count": 31,
      "outputs": [
        {
          "output_type": "stream",
          "name": "stdout",
          "text": [
            "{'data': tensor([4, 9])}\n",
            "{'data': tensor([3, 7])}\n",
            "{'data': tensor([1, 2])}\n",
            "{'data': tensor([5])}\n"
          ]
        }
      ]
    },
    {
      "cell_type": "markdown",
      "source": [
        "We'll create a custom transform called SquareIt, which will replace the corresponding value of the input's keys with a squared value. In our case, SquareIt(keys='data') will apply the square transform to the value of x['data']."
      ],
      "metadata": {
        "id": "hk9cqw8AR9KF"
      }
    },
    {
      "cell_type": "code",
      "source": [
        "class SquareIt(MapTransform):\n",
        "    def __init__(self, keys):\n",
        "        MapTransform.__init__(self, keys)\n",
        "        print(f\"keys to square it: {self.keys}\")\n",
        "        \n",
        "    def __call__(self, x):\n",
        "        key = self.keys[0]\n",
        "        data = x[key]\n",
        "        output = {key: data ** 2}\n",
        "        return output\n",
        "\n",
        "square_dataset = Dataset(items, transform=SquareIt(keys='data'))\n",
        "for item in square_dataset:\n",
        "    print(item)"
      ],
      "metadata": {
        "colab": {
          "base_uri": "https://localhost:8080/"
        },
        "id": "Zg4kzFNJR0CX",
        "outputId": "49784848-971d-4079-d06d-24fa540d1263"
      },
      "execution_count": 32,
      "outputs": [
        {
          "output_type": "stream",
          "name": "stdout",
          "text": [
            "keys to square it: ('data',)\n",
            "{'data': 16}\n",
            "{'data': 81}\n",
            "{'data': 9}\n",
            "{'data': 49}\n",
            "{'data': 1}\n",
            "{'data': 4}\n",
            "{'data': 25}\n"
          ]
        }
      ]
    },
    {
      "cell_type": "markdown",
      "source": [
        "MONAI provides multi-thread versions of CacheDataset and LMDBDataset to accelerate these transformation steps during training by storing the intermediate outcomes before the first randomized transform in the transform chain. Enabling this feature could potentially give 10x training speedups in the Datasets experiment."
      ],
      "metadata": {
        "id": "DDpyMzmQSKy-"
      }
    },
    {
      "cell_type": "code",
      "source": [
        "class SlowSquare(MapTransform):\n",
        "    def __init__(self, keys):\n",
        "        MapTransform.__init__(self, keys)\n",
        "        print(f\"keys to square it: {self.keys}\")\n",
        "\n",
        "    def __call__(self, x):\n",
        "        time.sleep(1.0)\n",
        "        output = {key: x[key] ** 2 for key in self.keys}\n",
        "        return output\n",
        "\n",
        "square_dataset = Dataset(items, transform=SlowSquare(keys='data'))"
      ],
      "metadata": {
        "colab": {
          "base_uri": "https://localhost:8080/"
        },
        "id": "LwXluLelSLRF",
        "outputId": "d1e1f5a4-b45e-405a-f6b5-8bb1c0b01de2"
      },
      "execution_count": 33,
      "outputs": [
        {
          "output_type": "stream",
          "name": "stdout",
          "text": [
            "keys to square it: ('data',)\n"
          ]
        }
      ]
    },
    {
      "cell_type": "code",
      "source": [
        "%time for item in square_dataset: print(item)"
      ],
      "metadata": {
        "colab": {
          "base_uri": "https://localhost:8080/"
        },
        "id": "noTNOeRrSTd7",
        "outputId": "dce0ea62-99c6-4c59-b53d-5696534836df"
      },
      "execution_count": 34,
      "outputs": [
        {
          "output_type": "stream",
          "name": "stdout",
          "text": [
            "{'data': 16}\n",
            "{'data': 81}\n",
            "{'data': 9}\n",
            "{'data': 49}\n",
            "{'data': 1}\n",
            "{'data': 4}\n",
            "{'data': 25}\n",
            "CPU times: user 30.8 ms, sys: 6.33 ms, total: 37.2 ms\n",
            "Wall time: 7.01 s\n"
          ]
        }
      ]
    },
    {
      "cell_type": "markdown",
      "source": [
        "Every time we run this loop we're going to get roughly 7 seconds to go through all of the items. If you were do this for 100 epochs, you're adding almost 12 extra minutes of load time to your total training loop. Let's look at ways that we can improve this time by utilizing caching"
      ],
      "metadata": {
        "id": "mKCJlndoSfBY"
      }
    },
    {
      "cell_type": "markdown",
      "source": [
        "solution: \n",
        "Cache Dataset\n",
        "When using CacheDataset the caching is done when the object is initialized for the first time, so the initialization is slower than a regular dataset.\n",
        "\n",
        "By caching the results of non-random preprocessing transforms, it accelerates the training data pipeline. If the requested data is not in the cache, all transforms will run normally."
      ],
      "metadata": {
        "id": "g1UWDWPjSoTi"
      }
    },
    {
      "cell_type": "code",
      "source": [
        "square_cached = CacheDataset(items, transform=SlowSquare(keys='data'))"
      ],
      "metadata": {
        "colab": {
          "base_uri": "https://localhost:8080/"
        },
        "id": "Z5Cy0m7aSrVV",
        "outputId": "6cf6991c-323d-497b-e2a9-5343c2022d28"
      },
      "execution_count": 35,
      "outputs": [
        {
          "output_type": "stream",
          "name": "stdout",
          "text": [
            "keys to square it: ('data',)\n"
          ]
        },
        {
          "output_type": "stream",
          "name": "stderr",
          "text": [
            "Loading dataset: 100%|██████████| 7/7 [00:02<00:00,  3.50it/s]\n"
          ]
        }
      ]
    },
    {
      "cell_type": "code",
      "source": [
        "%timeit list(item for item in square_cached)"
      ],
      "metadata": {
        "colab": {
          "base_uri": "https://localhost:8080/"
        },
        "id": "dhPnOlQPSvj6",
        "outputId": "08259b1a-d697-4640-bad9-8d6dd0583c2d"
      },
      "execution_count": 36,
      "outputs": [
        {
          "output_type": "stream",
          "name": "stdout",
          "text": [
            "100000 loops, best of 5: 19.7 µs per loop\n"
          ]
        }
      ]
    },
    {
      "cell_type": "markdown",
      "source": [
        "Persistent Caching\n",
        "PersistentDataset allows for persistent storage of pre-computed values to efficiently manage larger than memory dictionary format data.\n",
        "\n",
        "The non-random transform components are computed when first used and stored in the cache_dir for rapid retrieval on subsequent uses."
      ],
      "metadata": {
        "id": "sgs8JrpqS7TZ"
      }
    },
    {
      "cell_type": "code",
      "source": [
        "square_persist = monai.data.PersistentDataset(items, transform=SlowSquare(keys='data'), cache_dir=\"my_cache\")\n",
        "%time for item in square_persist: print(item)"
      ],
      "metadata": {
        "colab": {
          "base_uri": "https://localhost:8080/"
        },
        "id": "PtKC9mOUS7x8",
        "outputId": "25ca267d-a6d3-4c06-9c96-3a1aa4bf2996"
      },
      "execution_count": 37,
      "outputs": [
        {
          "output_type": "stream",
          "name": "stdout",
          "text": [
            "keys to square it: ('data',)\n",
            "{'data': 16}\n",
            "{'data': 81}\n",
            "{'data': 9}\n",
            "{'data': 49}\n",
            "{'data': 1}\n",
            "{'data': 4}\n",
            "{'data': 25}\n",
            "CPU times: user 39.4 ms, sys: 6.25 ms, total: 45.6 ms\n",
            "Wall time: 7.01 s\n"
          ]
        }
      ]
    },
    {
      "cell_type": "code",
      "source": [
        "!ls my_cache"
      ],
      "metadata": {
        "colab": {
          "base_uri": "https://localhost:8080/"
        },
        "id": "_eSC7EgOTBPr",
        "outputId": "353b1b80-c8fe-480d-964d-617a9075c7dc"
      },
      "execution_count": 38,
      "outputs": [
        {
          "output_type": "stream",
          "name": "stdout",
          "text": [
            "084852b1dabc721c099e14e1e8c28298.pt  755d77b67f942e5f1d1fda27fe93863a.pt\n",
            "1257dfae3534518a1e7952d258c8792b.pt  89f8982b229a46956cd09956d7f5e575.pt\n",
            "3d387df3250e7ce6ef754813a58de728.pt  a338dd9f228572a3cc1896c789569500.pt\n",
            "65f06620bbaaf60cc1de433b6038ddfc.pt\n"
          ]
        }
      ]
    },
    {
      "cell_type": "code",
      "source": [
        "square_persist_1 = monai.data.PersistentDataset(items, transform=SlowSquare(keys='data'), cache_dir=\"my_cache\")\n",
        "%timeit [item for item in square_persist_1]"
      ],
      "metadata": {
        "colab": {
          "base_uri": "https://localhost:8080/"
        },
        "id": "fWbaIvSATG8v",
        "outputId": "31254749-3d66-469b-8bde-6f304d240706"
      },
      "execution_count": 39,
      "outputs": [
        {
          "output_type": "stream",
          "name": "stdout",
          "text": [
            "keys to square it: ('data',)\n",
            "The slowest run took 5.55 times longer than the fastest. This could mean that an intermediate result is being cached.\n",
            "1000 loops, best of 5: 677 µs per loop\n"
          ]
        }
      ]
    },
    {
      "cell_type": "markdown",
      "source": [
        "What common datasets are provided by MONAI?\n",
        "To quickly get started with popular training data in the medical domain, MONAI provides several data-specific Datasets(like: MedNISTDataset, DecathlonDataset, etc.), which include downloading from our AWS storage, extracting data files and support generation of training/evaluation items with transforms.\n",
        "\n",
        "The DecathlonDataset function leverages the features described throughout this notebook. These datasets are an extension of CacheDataset covered above."
      ],
      "metadata": {
        "id": "8qMUO7XTTUPY"
      }
    },
    {
      "cell_type": "code",
      "source": [
        "dataset = monai.apps.DecathlonDataset(root_dir=\"./\", task=\"Task09_Spleen\", section=\"training\", download=True)"
      ],
      "metadata": {
        "colab": {
          "base_uri": "https://localhost:8080/"
        },
        "id": "e6kzTn7kTU0n",
        "outputId": "8cfc80ea-d677-49f9-86e0-3552c419644f"
      },
      "execution_count": 40,
      "outputs": [
        {
          "output_type": "stream",
          "name": "stderr",
          "text": [
            "Task09_Spleen.tar: 1.50GB [01:12, 22.3MB/s]                            \n"
          ]
        },
        {
          "output_type": "stream",
          "name": "stdout",
          "text": [
            "Downloaded: ./Task09_Spleen.tar\n",
            "Verified 'Task09_Spleen.tar', md5: 410d4a301da4e5b2f6f86ec3ddba524e.\n",
            "Writing into directory: ./.\n"
          ]
        },
        {
          "output_type": "stream",
          "name": "stderr",
          "text": [
            "Loading dataset: 100%|██████████| 33/33 [00:24<00:00,  1.34it/s]\n"
          ]
        }
      ]
    },
    {
      "cell_type": "code",
      "source": [
        "print(dataset.get_properties(\"numTraining\"))\n",
        "print(dataset.get_properties(\"description\"))"
      ],
      "metadata": {
        "colab": {
          "base_uri": "https://localhost:8080/"
        },
        "id": "Hz2tqzugTtzt",
        "outputId": "4c5d9e04-914f-4128-8b8f-8d5fc684e1be"
      },
      "execution_count": 41,
      "outputs": [
        {
          "output_type": "stream",
          "name": "stdout",
          "text": [
            "{'numTraining': 41}\n",
            "{'description': 'Spleen Segmentation'}\n"
          ]
        }
      ]
    },
    {
      "cell_type": "code",
      "source": [
        "print(dataset[0]['image'].shape)\n",
        "print(dataset[0]['label'].shape)"
      ],
      "metadata": {
        "colab": {
          "base_uri": "https://localhost:8080/"
        },
        "id": "8oX2SiNOUMA2",
        "outputId": "b3a90568-eaea-41c9-aeae-00eb1dff5972"
      },
      "execution_count": 42,
      "outputs": [
        {
          "output_type": "stream",
          "name": "stdout",
          "text": [
            "(512, 512, 55)\n",
            "(512, 512, 55)\n"
          ]
        }
      ]
    },
    {
      "cell_type": "markdown",
      "source": [
        "What Network and Network components does MONAI provide?\n",
        "MONAI provides definitions for networks and their components that inherit directly from Pytorch Module, Sequential, etc. These general purpose networks include parameterized topologies that can easily be expanded are independent from rest of MONAI so networks can be used with existing training code.\n",
        "\n",
        "MONAI includes the following submodules:\n",
        "\n",
        "layers: defines low level layers, factories for selecting Pytorch and custom layers based on dimension and other arguments\n",
        "blocks: mid-level building blocks defining specific reusable concepts networks are constructed from\n",
        "nets: full network definitions for common architectures, eg. UNet, VNet, Densenet,"
      ],
      "metadata": {
        "id": "VVe4M_RXUW8r"
      }
    },
    {
      "cell_type": "markdown",
      "source": [
        "MONAI provides blocks for defining:\n",
        "\n",
        "Convolution with activation and regularization\n",
        "Residual units\n",
        "Squeeze/excitation\n",
        "Downsampling/upsampling\n",
        "Subpixel convolutions"
      ],
      "metadata": {
        "id": "2f4larR6Uja8"
      }
    },
    {
      "cell_type": "code",
      "source": [
        "from monai.networks.layers import Conv, Act, split_args, Pool"
      ],
      "metadata": {
        "id": "U0XpyhROUj8i"
      },
      "execution_count": 43,
      "outputs": []
    },
    {
      "cell_type": "code",
      "source": [
        "print(Conv[Conv.CONV, 1])\n",
        "print(Conv[Conv.CONV, 2])\n",
        "print(Conv[Conv.CONV, 3])\n",
        "print(Conv[Conv.CONVTRANS, 1])\n",
        "print(Conv[Conv.CONVTRANS, 2])\n",
        "print(Conv[Conv.CONVTRANS, 3])"
      ],
      "metadata": {
        "colab": {
          "base_uri": "https://localhost:8080/"
        },
        "id": "jmf6tkKGUm52",
        "outputId": "1dcd3ca2-ebb6-4b3c-9551-617ffeb4e9dc"
      },
      "execution_count": 44,
      "outputs": [
        {
          "output_type": "stream",
          "name": "stdout",
          "text": [
            "<class 'torch.nn.modules.conv.Conv1d'>\n",
            "<class 'torch.nn.modules.conv.Conv2d'>\n",
            "<class 'torch.nn.modules.conv.Conv3d'>\n",
            "<class 'torch.nn.modules.conv.ConvTranspose1d'>\n",
            "<class 'torch.nn.modules.conv.ConvTranspose2d'>\n",
            "<class 'torch.nn.modules.conv.ConvTranspose3d'>\n"
          ]
        }
      ]
    },
    {
      "cell_type": "code",
      "source": [
        "print(Conv[Conv.CONV, 2](in_channels=1, out_channels=4, kernel_size=3))\n",
        "print(Conv[Conv.CONV, 3](in_channels=1, out_channels=4, kernel_size=3))"
      ],
      "metadata": {
        "colab": {
          "base_uri": "https://localhost:8080/"
        },
        "id": "L8zSaY5lUqOT",
        "outputId": "3bcdedf9-2adc-4b34-e2bc-d9c218cd186d"
      },
      "execution_count": 45,
      "outputs": [
        {
          "output_type": "stream",
          "name": "stdout",
          "text": [
            "Conv2d(1, 4, kernel_size=(3, 3), stride=(1, 1))\n",
            "Conv3d(1, 4, kernel_size=(3, 3, 3), stride=(1, 1, 1))\n"
          ]
        }
      ]
    },
    {
      "cell_type": "code",
      "source": [
        "print(Act[Act.PRELU])\n",
        "Act[Act.PRELU](num_parameters=1, init=0.1)"
      ],
      "metadata": {
        "colab": {
          "base_uri": "https://localhost:8080/"
        },
        "id": "fTnBYwAoUve2",
        "outputId": "b8cdba7f-02f4-4408-e1f6-7e411a9bb7f2"
      },
      "execution_count": 46,
      "outputs": [
        {
          "output_type": "stream",
          "name": "stdout",
          "text": [
            "<class 'torch.nn.modules.activation.PReLU'>\n"
          ]
        },
        {
          "output_type": "execute_result",
          "data": {
            "text/plain": [
              "PReLU(num_parameters=1)"
            ]
          },
          "metadata": {},
          "execution_count": 46
        }
      ]
    },
    {
      "cell_type": "code",
      "source": [
        "act_name, act_args = split_args((\"prelu\", {\"num_parameters\": 1, \"init\": 0.1}))\n",
        "Act[act_name](**act_args)"
      ],
      "metadata": {
        "colab": {
          "base_uri": "https://localhost:8080/"
        },
        "id": "9c6xveZ2U1Ql",
        "outputId": "7cc15089-a2a0-4c51-e25b-c87bc248a7c7"
      },
      "execution_count": 47,
      "outputs": [
        {
          "output_type": "execute_result",
          "data": {
            "text/plain": [
              "PReLU(num_parameters=1)"
            ]
          },
          "metadata": {},
          "execution_count": 47
        }
      ]
    },
    {
      "cell_type": "markdown",
      "source": [
        "Flexible Definition Networks\n",
        "These APIs allow for flexible definitions of networks. Below we'll create a class called MyNetwork that utilizes Conv, Act, and Pool. Each Network requires an __init__ and a forward function"
      ],
      "metadata": {
        "id": "rkAPZmArU-i5"
      }
    },
    {
      "cell_type": "code",
      "source": [
        "class MyNetwork(torch.nn.Module):\n",
        "    \n",
        "  def __init__(self, dims=3, in_channels=1, out_channels=8, kernel_size=3, pool_kernel=2, act=\"relu\"):\n",
        "    super(MyNetwork, self).__init__()\n",
        "    # convolution\n",
        "    self.conv = Conv[Conv.CONV, dims](in_channels, out_channels, kernel_size=kernel_size)\n",
        "    # activation\n",
        "    act_type, act_args = split_args(act)\n",
        "    self.act = Act[act_type](**act_args)\n",
        "    # pooling\n",
        "    self.pool = Pool[Pool.MAX, dims](pool_kernel)\n",
        "  \n",
        "  def forward(self, x: torch.Tensor):\n",
        "    x = self.conv(x)\n",
        "    x = self.act(x)\n",
        "    x = self.pool(x)\n",
        "    return x"
      ],
      "metadata": {
        "id": "LPUZpvbeU_Cy"
      },
      "execution_count": 48,
      "outputs": []
    },
    {
      "cell_type": "code",
      "source": [
        "# default network instance\n",
        "default_net = MyNetwork()\n",
        "print(default_net)\n",
        "print(default_net(torch.ones(3, 1, 20, 20, 30)).shape)\n",
        "\n",
        "# 2D network instance\n",
        "elu_net = MyNetwork(dims=2, in_channels=3, act=(\"elu\", {\"inplace\": True}))\n",
        "print(elu_net)\n",
        "print(elu_net(torch.ones(3, 3, 24, 24)).shape)\n",
        "\n",
        "# 3D network instance with anisotropic kernels\n",
        "sigmoid_net = MyNetwork(3, in_channels=4, kernel_size=(3, 3, 1), act=\"sigmoid\")\n",
        "print(sigmoid_net)\n",
        "print(sigmoid_net(torch.ones(3, 4, 30, 30, 5)).shape)\n"
      ],
      "metadata": {
        "colab": {
          "base_uri": "https://localhost:8080/"
        },
        "id": "18C6T2rUVQ06",
        "outputId": "6b53aaf7-1a33-4b78-a6d1-0bb995c5f150"
      },
      "execution_count": 49,
      "outputs": [
        {
          "output_type": "stream",
          "name": "stdout",
          "text": [
            "MyNetwork(\n",
            "  (conv): Conv3d(1, 8, kernel_size=(3, 3, 3), stride=(1, 1, 1))\n",
            "  (act): ReLU()\n",
            "  (pool): MaxPool3d(kernel_size=2, stride=2, padding=0, dilation=1, ceil_mode=False)\n",
            ")\n",
            "torch.Size([3, 8, 9, 9, 14])\n",
            "MyNetwork(\n",
            "  (conv): Conv2d(3, 8, kernel_size=(3, 3), stride=(1, 1))\n",
            "  (act): ELU(alpha=1.0, inplace=True)\n",
            "  (pool): MaxPool2d(kernel_size=2, stride=2, padding=0, dilation=1, ceil_mode=False)\n",
            ")\n",
            "torch.Size([3, 8, 11, 11])\n",
            "MyNetwork(\n",
            "  (conv): Conv3d(4, 8, kernel_size=(3, 3, 1), stride=(1, 1, 1))\n",
            "  (act): Sigmoid()\n",
            "  (pool): MaxPool3d(kernel_size=2, stride=2, padding=0, dilation=1, ceil_mode=False)\n",
            ")\n",
            "torch.Size([3, 8, 14, 14, 2])\n"
          ]
        }
      ]
    },
    {
      "cell_type": "markdown",
      "source": [
        "We'll define a 2D UNet network with 2 hidden layers having outputs with 8 channels, and a bottom (bottleneck) layer producing outputs with 32 channels. The stride values state the stride for the initial convolution, ie. downsampling in down path and upsampling in up path and it'll transpose the convolutions used to implement upsampling."
      ],
      "metadata": {
        "id": "O_0XfagwVpRy"
      }
    },
    {
      "cell_type": "code",
      "source": [
        "net = monai.networks.nets.UNet(\n",
        "    dimensions=2,  # 2 or 3 for a 2D or 3D network\n",
        "    in_channels=1,  # number of input channels\n",
        "    out_channels=1,  # number of output channels\n",
        "    channels=[8, 16, 32],  # channel counts for layers\n",
        "    strides=[2, 2]  # strides for mid layers\n",
        ")"
      ],
      "metadata": {
        "id": "ILRjXlcjVpzd"
      },
      "execution_count": 50,
      "outputs": []
    },
    {
      "cell_type": "code",
      "source": [
        "net = monai.networks.nets.UNet(\n",
        "    dimensions=3,  \n",
        "    in_channels=1,      \n",
        "    out_channels=1,  \n",
        "    channels=[8, 16, 32, 64],\n",
        "    strides=[2, 2, 2],\n",
        "    act=monai.networks.layers.Act.LEAKYRELU\n",
        ")"
      ],
      "metadata": {
        "id": "1KbtoutwVxE1"
      },
      "execution_count": 51,
      "outputs": []
    },
    {
      "cell_type": "markdown",
      "source": [
        "task 01 \n",
        "Write a transform that subtracts 1 from the input value\n",
        "Combine the new Transform with the existing SlowSquare from above\n",
        "Instantiate SmartCacheDataset with replacement rate of .2 and cache number of 5\n",
        "Run SmartCache 5-times so that you can see the replacement values"
      ],
      "metadata": {
        "id": "FQP_0hsyV7Zv"
      }
    },
    {
      "cell_type": "code",
      "source": [
        "from monai.data import SmartCacheDataset\n",
        "from monai.transforms import Compose, MapTransform\n",
        "\n",
        "class MinusOne(MapTransform):\n",
        "    def __init__(self, keys):\n",
        "        MapTransform.__init__(self, keys)\n",
        "        print(f\"keys to minus from: {self.keys}\")\n",
        "\n",
        "    def __call__(self, x):\n",
        "        output = {key: x[key] - 1 for key in self.keys}\n",
        "        return output\n",
        "\n",
        "smart_transform = Compose([SlowSquare(keys='data', ), MinusOne(keys='data', )])    \n",
        "\n",
        "smart_square  = monai.data.SmartCacheDataset(\n",
        "    items, \n",
        "    transform=smart_transform, \n",
        "    replace_rate = .2,\n",
        "    cache_num=5\n",
        ")\n",
        "\n",
        "%time for item in smart_square: print(item)"
      ],
      "metadata": {
        "colab": {
          "base_uri": "https://localhost:8080/"
        },
        "id": "2DxFKHumV8nZ",
        "outputId": "f10d07c8-6506-47f7-ea1a-979835e696be"
      },
      "execution_count": 56,
      "outputs": [
        {
          "output_type": "stream",
          "name": "stdout",
          "text": [
            "keys to square it: ('data',)\n",
            "keys to minus from: ('data',)\n"
          ]
        },
        {
          "output_type": "stream",
          "name": "stderr",
          "text": [
            "Loading dataset: 100%|██████████| 5/5 [00:02<00:00,  2.50it/s]"
          ]
        },
        {
          "output_type": "stream",
          "name": "stdout",
          "text": [
            "{'data': 24}\n",
            "{'data': 8}\n",
            "{'data': 80}\n",
            "{'data': 48}\n",
            "{'data': 15}\n",
            "CPU times: user 1.46 ms, sys: 0 ns, total: 1.46 ms\n",
            "Wall time: 1.12 ms\n"
          ]
        },
        {
          "output_type": "stream",
          "name": "stderr",
          "text": [
            "\n"
          ]
        }
      ]
    },
    {
      "cell_type": "code",
      "source": [
        "#Run through SmartCache replacement N-times\n",
        "smart_square.start()\n",
        "\n",
        "for i in range(5):\n",
        "    print(\"\\nCache: \", i)\n",
        "    for item in smart_square: \n",
        "        print(item)\n",
        "    smart_square.update_cache()\n",
        "    \n",
        "smart_square.shutdown()"
      ],
      "metadata": {
        "colab": {
          "base_uri": "https://localhost:8080/"
        },
        "id": "8aOz6n2aXIu5",
        "outputId": "078fc33b-e809-4435-de55-672c3ca52b87"
      },
      "execution_count": 57,
      "outputs": [
        {
          "output_type": "stream",
          "name": "stdout",
          "text": [
            "\n",
            "Cache:  0\n",
            "{'data': 24}\n",
            "{'data': 8}\n",
            "{'data': 80}\n",
            "{'data': 48}\n",
            "{'data': 15}\n",
            "\n",
            "Cache:  1\n",
            "{'data': 8}\n",
            "{'data': 80}\n",
            "{'data': 48}\n",
            "{'data': 15}\n",
            "{'data': 3}\n",
            "\n",
            "Cache:  2\n",
            "{'data': 80}\n",
            "{'data': 48}\n",
            "{'data': 15}\n",
            "{'data': 3}\n",
            "{'data': 0}\n",
            "\n",
            "Cache:  3\n",
            "{'data': 48}\n",
            "{'data': 15}\n",
            "{'data': 3}\n",
            "{'data': 0}\n",
            "{'data': 24}\n",
            "\n",
            "Cache:  4\n",
            "{'data': 15}\n",
            "{'data': 3}\n",
            "{'data': 0}\n",
            "{'data': 24}\n",
            "{'data': 8}\n"
          ]
        }
      ]
    },
    {
      "cell_type": "code",
      "source": [
        "from monai.networks.nets import DenseNet121\n",
        "\n",
        "net = DenseNet121(\n",
        "    spatial_dims=2,\n",
        "    in_channels=2,\n",
        "    out_channels=3\n",
        ")\n",
        "print(net)"
      ],
      "metadata": {
        "colab": {
          "base_uri": "https://localhost:8080/"
        },
        "id": "0kGGlsGoXcYN",
        "outputId": "62109170-429f-4665-837d-0544fb8928eb"
      },
      "execution_count": 58,
      "outputs": [
        {
          "output_type": "stream",
          "name": "stdout",
          "text": [
            "DenseNet121(\n",
            "  (features): Sequential(\n",
            "    (conv0): Conv2d(2, 64, kernel_size=(7, 7), stride=(2, 2), padding=(3, 3), bias=False)\n",
            "    (norm0): BatchNorm2d(64, eps=1e-05, momentum=0.1, affine=True, track_running_stats=True)\n",
            "    (relu0): ReLU(inplace=True)\n",
            "    (pool0): MaxPool2d(kernel_size=3, stride=2, padding=1, dilation=1, ceil_mode=False)\n",
            "    (denseblock1): _DenseBlock(\n",
            "      (denselayer1): _DenseLayer(\n",
            "        (layers): Sequential(\n",
            "          (norm1): BatchNorm2d(64, eps=1e-05, momentum=0.1, affine=True, track_running_stats=True)\n",
            "          (relu1): ReLU(inplace=True)\n",
            "          (conv1): Conv2d(64, 128, kernel_size=(1, 1), stride=(1, 1), bias=False)\n",
            "          (norm2): BatchNorm2d(128, eps=1e-05, momentum=0.1, affine=True, track_running_stats=True)\n",
            "          (relu2): ReLU(inplace=True)\n",
            "          (conv2): Conv2d(128, 32, kernel_size=(3, 3), stride=(1, 1), padding=(1, 1), bias=False)\n",
            "        )\n",
            "      )\n",
            "      (denselayer2): _DenseLayer(\n",
            "        (layers): Sequential(\n",
            "          (norm1): BatchNorm2d(96, eps=1e-05, momentum=0.1, affine=True, track_running_stats=True)\n",
            "          (relu1): ReLU(inplace=True)\n",
            "          (conv1): Conv2d(96, 128, kernel_size=(1, 1), stride=(1, 1), bias=False)\n",
            "          (norm2): BatchNorm2d(128, eps=1e-05, momentum=0.1, affine=True, track_running_stats=True)\n",
            "          (relu2): ReLU(inplace=True)\n",
            "          (conv2): Conv2d(128, 32, kernel_size=(3, 3), stride=(1, 1), padding=(1, 1), bias=False)\n",
            "        )\n",
            "      )\n",
            "      (denselayer3): _DenseLayer(\n",
            "        (layers): Sequential(\n",
            "          (norm1): BatchNorm2d(128, eps=1e-05, momentum=0.1, affine=True, track_running_stats=True)\n",
            "          (relu1): ReLU(inplace=True)\n",
            "          (conv1): Conv2d(128, 128, kernel_size=(1, 1), stride=(1, 1), bias=False)\n",
            "          (norm2): BatchNorm2d(128, eps=1e-05, momentum=0.1, affine=True, track_running_stats=True)\n",
            "          (relu2): ReLU(inplace=True)\n",
            "          (conv2): Conv2d(128, 32, kernel_size=(3, 3), stride=(1, 1), padding=(1, 1), bias=False)\n",
            "        )\n",
            "      )\n",
            "      (denselayer4): _DenseLayer(\n",
            "        (layers): Sequential(\n",
            "          (norm1): BatchNorm2d(160, eps=1e-05, momentum=0.1, affine=True, track_running_stats=True)\n",
            "          (relu1): ReLU(inplace=True)\n",
            "          (conv1): Conv2d(160, 128, kernel_size=(1, 1), stride=(1, 1), bias=False)\n",
            "          (norm2): BatchNorm2d(128, eps=1e-05, momentum=0.1, affine=True, track_running_stats=True)\n",
            "          (relu2): ReLU(inplace=True)\n",
            "          (conv2): Conv2d(128, 32, kernel_size=(3, 3), stride=(1, 1), padding=(1, 1), bias=False)\n",
            "        )\n",
            "      )\n",
            "      (denselayer5): _DenseLayer(\n",
            "        (layers): Sequential(\n",
            "          (norm1): BatchNorm2d(192, eps=1e-05, momentum=0.1, affine=True, track_running_stats=True)\n",
            "          (relu1): ReLU(inplace=True)\n",
            "          (conv1): Conv2d(192, 128, kernel_size=(1, 1), stride=(1, 1), bias=False)\n",
            "          (norm2): BatchNorm2d(128, eps=1e-05, momentum=0.1, affine=True, track_running_stats=True)\n",
            "          (relu2): ReLU(inplace=True)\n",
            "          (conv2): Conv2d(128, 32, kernel_size=(3, 3), stride=(1, 1), padding=(1, 1), bias=False)\n",
            "        )\n",
            "      )\n",
            "      (denselayer6): _DenseLayer(\n",
            "        (layers): Sequential(\n",
            "          (norm1): BatchNorm2d(224, eps=1e-05, momentum=0.1, affine=True, track_running_stats=True)\n",
            "          (relu1): ReLU(inplace=True)\n",
            "          (conv1): Conv2d(224, 128, kernel_size=(1, 1), stride=(1, 1), bias=False)\n",
            "          (norm2): BatchNorm2d(128, eps=1e-05, momentum=0.1, affine=True, track_running_stats=True)\n",
            "          (relu2): ReLU(inplace=True)\n",
            "          (conv2): Conv2d(128, 32, kernel_size=(3, 3), stride=(1, 1), padding=(1, 1), bias=False)\n",
            "        )\n",
            "      )\n",
            "    )\n",
            "    (transition1): _Transition(\n",
            "      (norm): BatchNorm2d(256, eps=1e-05, momentum=0.1, affine=True, track_running_stats=True)\n",
            "      (relu): ReLU(inplace=True)\n",
            "      (conv): Conv2d(256, 128, kernel_size=(1, 1), stride=(1, 1), bias=False)\n",
            "      (pool): AvgPool2d(kernel_size=2, stride=2, padding=0)\n",
            "    )\n",
            "    (denseblock2): _DenseBlock(\n",
            "      (denselayer1): _DenseLayer(\n",
            "        (layers): Sequential(\n",
            "          (norm1): BatchNorm2d(128, eps=1e-05, momentum=0.1, affine=True, track_running_stats=True)\n",
            "          (relu1): ReLU(inplace=True)\n",
            "          (conv1): Conv2d(128, 128, kernel_size=(1, 1), stride=(1, 1), bias=False)\n",
            "          (norm2): BatchNorm2d(128, eps=1e-05, momentum=0.1, affine=True, track_running_stats=True)\n",
            "          (relu2): ReLU(inplace=True)\n",
            "          (conv2): Conv2d(128, 32, kernel_size=(3, 3), stride=(1, 1), padding=(1, 1), bias=False)\n",
            "        )\n",
            "      )\n",
            "      (denselayer2): _DenseLayer(\n",
            "        (layers): Sequential(\n",
            "          (norm1): BatchNorm2d(160, eps=1e-05, momentum=0.1, affine=True, track_running_stats=True)\n",
            "          (relu1): ReLU(inplace=True)\n",
            "          (conv1): Conv2d(160, 128, kernel_size=(1, 1), stride=(1, 1), bias=False)\n",
            "          (norm2): BatchNorm2d(128, eps=1e-05, momentum=0.1, affine=True, track_running_stats=True)\n",
            "          (relu2): ReLU(inplace=True)\n",
            "          (conv2): Conv2d(128, 32, kernel_size=(3, 3), stride=(1, 1), padding=(1, 1), bias=False)\n",
            "        )\n",
            "      )\n",
            "      (denselayer3): _DenseLayer(\n",
            "        (layers): Sequential(\n",
            "          (norm1): BatchNorm2d(192, eps=1e-05, momentum=0.1, affine=True, track_running_stats=True)\n",
            "          (relu1): ReLU(inplace=True)\n",
            "          (conv1): Conv2d(192, 128, kernel_size=(1, 1), stride=(1, 1), bias=False)\n",
            "          (norm2): BatchNorm2d(128, eps=1e-05, momentum=0.1, affine=True, track_running_stats=True)\n",
            "          (relu2): ReLU(inplace=True)\n",
            "          (conv2): Conv2d(128, 32, kernel_size=(3, 3), stride=(1, 1), padding=(1, 1), bias=False)\n",
            "        )\n",
            "      )\n",
            "      (denselayer4): _DenseLayer(\n",
            "        (layers): Sequential(\n",
            "          (norm1): BatchNorm2d(224, eps=1e-05, momentum=0.1, affine=True, track_running_stats=True)\n",
            "          (relu1): ReLU(inplace=True)\n",
            "          (conv1): Conv2d(224, 128, kernel_size=(1, 1), stride=(1, 1), bias=False)\n",
            "          (norm2): BatchNorm2d(128, eps=1e-05, momentum=0.1, affine=True, track_running_stats=True)\n",
            "          (relu2): ReLU(inplace=True)\n",
            "          (conv2): Conv2d(128, 32, kernel_size=(3, 3), stride=(1, 1), padding=(1, 1), bias=False)\n",
            "        )\n",
            "      )\n",
            "      (denselayer5): _DenseLayer(\n",
            "        (layers): Sequential(\n",
            "          (norm1): BatchNorm2d(256, eps=1e-05, momentum=0.1, affine=True, track_running_stats=True)\n",
            "          (relu1): ReLU(inplace=True)\n",
            "          (conv1): Conv2d(256, 128, kernel_size=(1, 1), stride=(1, 1), bias=False)\n",
            "          (norm2): BatchNorm2d(128, eps=1e-05, momentum=0.1, affine=True, track_running_stats=True)\n",
            "          (relu2): ReLU(inplace=True)\n",
            "          (conv2): Conv2d(128, 32, kernel_size=(3, 3), stride=(1, 1), padding=(1, 1), bias=False)\n",
            "        )\n",
            "      )\n",
            "      (denselayer6): _DenseLayer(\n",
            "        (layers): Sequential(\n",
            "          (norm1): BatchNorm2d(288, eps=1e-05, momentum=0.1, affine=True, track_running_stats=True)\n",
            "          (relu1): ReLU(inplace=True)\n",
            "          (conv1): Conv2d(288, 128, kernel_size=(1, 1), stride=(1, 1), bias=False)\n",
            "          (norm2): BatchNorm2d(128, eps=1e-05, momentum=0.1, affine=True, track_running_stats=True)\n",
            "          (relu2): ReLU(inplace=True)\n",
            "          (conv2): Conv2d(128, 32, kernel_size=(3, 3), stride=(1, 1), padding=(1, 1), bias=False)\n",
            "        )\n",
            "      )\n",
            "      (denselayer7): _DenseLayer(\n",
            "        (layers): Sequential(\n",
            "          (norm1): BatchNorm2d(320, eps=1e-05, momentum=0.1, affine=True, track_running_stats=True)\n",
            "          (relu1): ReLU(inplace=True)\n",
            "          (conv1): Conv2d(320, 128, kernel_size=(1, 1), stride=(1, 1), bias=False)\n",
            "          (norm2): BatchNorm2d(128, eps=1e-05, momentum=0.1, affine=True, track_running_stats=True)\n",
            "          (relu2): ReLU(inplace=True)\n",
            "          (conv2): Conv2d(128, 32, kernel_size=(3, 3), stride=(1, 1), padding=(1, 1), bias=False)\n",
            "        )\n",
            "      )\n",
            "      (denselayer8): _DenseLayer(\n",
            "        (layers): Sequential(\n",
            "          (norm1): BatchNorm2d(352, eps=1e-05, momentum=0.1, affine=True, track_running_stats=True)\n",
            "          (relu1): ReLU(inplace=True)\n",
            "          (conv1): Conv2d(352, 128, kernel_size=(1, 1), stride=(1, 1), bias=False)\n",
            "          (norm2): BatchNorm2d(128, eps=1e-05, momentum=0.1, affine=True, track_running_stats=True)\n",
            "          (relu2): ReLU(inplace=True)\n",
            "          (conv2): Conv2d(128, 32, kernel_size=(3, 3), stride=(1, 1), padding=(1, 1), bias=False)\n",
            "        )\n",
            "      )\n",
            "      (denselayer9): _DenseLayer(\n",
            "        (layers): Sequential(\n",
            "          (norm1): BatchNorm2d(384, eps=1e-05, momentum=0.1, affine=True, track_running_stats=True)\n",
            "          (relu1): ReLU(inplace=True)\n",
            "          (conv1): Conv2d(384, 128, kernel_size=(1, 1), stride=(1, 1), bias=False)\n",
            "          (norm2): BatchNorm2d(128, eps=1e-05, momentum=0.1, affine=True, track_running_stats=True)\n",
            "          (relu2): ReLU(inplace=True)\n",
            "          (conv2): Conv2d(128, 32, kernel_size=(3, 3), stride=(1, 1), padding=(1, 1), bias=False)\n",
            "        )\n",
            "      )\n",
            "      (denselayer10): _DenseLayer(\n",
            "        (layers): Sequential(\n",
            "          (norm1): BatchNorm2d(416, eps=1e-05, momentum=0.1, affine=True, track_running_stats=True)\n",
            "          (relu1): ReLU(inplace=True)\n",
            "          (conv1): Conv2d(416, 128, kernel_size=(1, 1), stride=(1, 1), bias=False)\n",
            "          (norm2): BatchNorm2d(128, eps=1e-05, momentum=0.1, affine=True, track_running_stats=True)\n",
            "          (relu2): ReLU(inplace=True)\n",
            "          (conv2): Conv2d(128, 32, kernel_size=(3, 3), stride=(1, 1), padding=(1, 1), bias=False)\n",
            "        )\n",
            "      )\n",
            "      (denselayer11): _DenseLayer(\n",
            "        (layers): Sequential(\n",
            "          (norm1): BatchNorm2d(448, eps=1e-05, momentum=0.1, affine=True, track_running_stats=True)\n",
            "          (relu1): ReLU(inplace=True)\n",
            "          (conv1): Conv2d(448, 128, kernel_size=(1, 1), stride=(1, 1), bias=False)\n",
            "          (norm2): BatchNorm2d(128, eps=1e-05, momentum=0.1, affine=True, track_running_stats=True)\n",
            "          (relu2): ReLU(inplace=True)\n",
            "          (conv2): Conv2d(128, 32, kernel_size=(3, 3), stride=(1, 1), padding=(1, 1), bias=False)\n",
            "        )\n",
            "      )\n",
            "      (denselayer12): _DenseLayer(\n",
            "        (layers): Sequential(\n",
            "          (norm1): BatchNorm2d(480, eps=1e-05, momentum=0.1, affine=True, track_running_stats=True)\n",
            "          (relu1): ReLU(inplace=True)\n",
            "          (conv1): Conv2d(480, 128, kernel_size=(1, 1), stride=(1, 1), bias=False)\n",
            "          (norm2): BatchNorm2d(128, eps=1e-05, momentum=0.1, affine=True, track_running_stats=True)\n",
            "          (relu2): ReLU(inplace=True)\n",
            "          (conv2): Conv2d(128, 32, kernel_size=(3, 3), stride=(1, 1), padding=(1, 1), bias=False)\n",
            "        )\n",
            "      )\n",
            "    )\n",
            "    (transition2): _Transition(\n",
            "      (norm): BatchNorm2d(512, eps=1e-05, momentum=0.1, affine=True, track_running_stats=True)\n",
            "      (relu): ReLU(inplace=True)\n",
            "      (conv): Conv2d(512, 256, kernel_size=(1, 1), stride=(1, 1), bias=False)\n",
            "      (pool): AvgPool2d(kernel_size=2, stride=2, padding=0)\n",
            "    )\n",
            "    (denseblock3): _DenseBlock(\n",
            "      (denselayer1): _DenseLayer(\n",
            "        (layers): Sequential(\n",
            "          (norm1): BatchNorm2d(256, eps=1e-05, momentum=0.1, affine=True, track_running_stats=True)\n",
            "          (relu1): ReLU(inplace=True)\n",
            "          (conv1): Conv2d(256, 128, kernel_size=(1, 1), stride=(1, 1), bias=False)\n",
            "          (norm2): BatchNorm2d(128, eps=1e-05, momentum=0.1, affine=True, track_running_stats=True)\n",
            "          (relu2): ReLU(inplace=True)\n",
            "          (conv2): Conv2d(128, 32, kernel_size=(3, 3), stride=(1, 1), padding=(1, 1), bias=False)\n",
            "        )\n",
            "      )\n",
            "      (denselayer2): _DenseLayer(\n",
            "        (layers): Sequential(\n",
            "          (norm1): BatchNorm2d(288, eps=1e-05, momentum=0.1, affine=True, track_running_stats=True)\n",
            "          (relu1): ReLU(inplace=True)\n",
            "          (conv1): Conv2d(288, 128, kernel_size=(1, 1), stride=(1, 1), bias=False)\n",
            "          (norm2): BatchNorm2d(128, eps=1e-05, momentum=0.1, affine=True, track_running_stats=True)\n",
            "          (relu2): ReLU(inplace=True)\n",
            "          (conv2): Conv2d(128, 32, kernel_size=(3, 3), stride=(1, 1), padding=(1, 1), bias=False)\n",
            "        )\n",
            "      )\n",
            "      (denselayer3): _DenseLayer(\n",
            "        (layers): Sequential(\n",
            "          (norm1): BatchNorm2d(320, eps=1e-05, momentum=0.1, affine=True, track_running_stats=True)\n",
            "          (relu1): ReLU(inplace=True)\n",
            "          (conv1): Conv2d(320, 128, kernel_size=(1, 1), stride=(1, 1), bias=False)\n",
            "          (norm2): BatchNorm2d(128, eps=1e-05, momentum=0.1, affine=True, track_running_stats=True)\n",
            "          (relu2): ReLU(inplace=True)\n",
            "          (conv2): Conv2d(128, 32, kernel_size=(3, 3), stride=(1, 1), padding=(1, 1), bias=False)\n",
            "        )\n",
            "      )\n",
            "      (denselayer4): _DenseLayer(\n",
            "        (layers): Sequential(\n",
            "          (norm1): BatchNorm2d(352, eps=1e-05, momentum=0.1, affine=True, track_running_stats=True)\n",
            "          (relu1): ReLU(inplace=True)\n",
            "          (conv1): Conv2d(352, 128, kernel_size=(1, 1), stride=(1, 1), bias=False)\n",
            "          (norm2): BatchNorm2d(128, eps=1e-05, momentum=0.1, affine=True, track_running_stats=True)\n",
            "          (relu2): ReLU(inplace=True)\n",
            "          (conv2): Conv2d(128, 32, kernel_size=(3, 3), stride=(1, 1), padding=(1, 1), bias=False)\n",
            "        )\n",
            "      )\n",
            "      (denselayer5): _DenseLayer(\n",
            "        (layers): Sequential(\n",
            "          (norm1): BatchNorm2d(384, eps=1e-05, momentum=0.1, affine=True, track_running_stats=True)\n",
            "          (relu1): ReLU(inplace=True)\n",
            "          (conv1): Conv2d(384, 128, kernel_size=(1, 1), stride=(1, 1), bias=False)\n",
            "          (norm2): BatchNorm2d(128, eps=1e-05, momentum=0.1, affine=True, track_running_stats=True)\n",
            "          (relu2): ReLU(inplace=True)\n",
            "          (conv2): Conv2d(128, 32, kernel_size=(3, 3), stride=(1, 1), padding=(1, 1), bias=False)\n",
            "        )\n",
            "      )\n",
            "      (denselayer6): _DenseLayer(\n",
            "        (layers): Sequential(\n",
            "          (norm1): BatchNorm2d(416, eps=1e-05, momentum=0.1, affine=True, track_running_stats=True)\n",
            "          (relu1): ReLU(inplace=True)\n",
            "          (conv1): Conv2d(416, 128, kernel_size=(1, 1), stride=(1, 1), bias=False)\n",
            "          (norm2): BatchNorm2d(128, eps=1e-05, momentum=0.1, affine=True, track_running_stats=True)\n",
            "          (relu2): ReLU(inplace=True)\n",
            "          (conv2): Conv2d(128, 32, kernel_size=(3, 3), stride=(1, 1), padding=(1, 1), bias=False)\n",
            "        )\n",
            "      )\n",
            "      (denselayer7): _DenseLayer(\n",
            "        (layers): Sequential(\n",
            "          (norm1): BatchNorm2d(448, eps=1e-05, momentum=0.1, affine=True, track_running_stats=True)\n",
            "          (relu1): ReLU(inplace=True)\n",
            "          (conv1): Conv2d(448, 128, kernel_size=(1, 1), stride=(1, 1), bias=False)\n",
            "          (norm2): BatchNorm2d(128, eps=1e-05, momentum=0.1, affine=True, track_running_stats=True)\n",
            "          (relu2): ReLU(inplace=True)\n",
            "          (conv2): Conv2d(128, 32, kernel_size=(3, 3), stride=(1, 1), padding=(1, 1), bias=False)\n",
            "        )\n",
            "      )\n",
            "      (denselayer8): _DenseLayer(\n",
            "        (layers): Sequential(\n",
            "          (norm1): BatchNorm2d(480, eps=1e-05, momentum=0.1, affine=True, track_running_stats=True)\n",
            "          (relu1): ReLU(inplace=True)\n",
            "          (conv1): Conv2d(480, 128, kernel_size=(1, 1), stride=(1, 1), bias=False)\n",
            "          (norm2): BatchNorm2d(128, eps=1e-05, momentum=0.1, affine=True, track_running_stats=True)\n",
            "          (relu2): ReLU(inplace=True)\n",
            "          (conv2): Conv2d(128, 32, kernel_size=(3, 3), stride=(1, 1), padding=(1, 1), bias=False)\n",
            "        )\n",
            "      )\n",
            "      (denselayer9): _DenseLayer(\n",
            "        (layers): Sequential(\n",
            "          (norm1): BatchNorm2d(512, eps=1e-05, momentum=0.1, affine=True, track_running_stats=True)\n",
            "          (relu1): ReLU(inplace=True)\n",
            "          (conv1): Conv2d(512, 128, kernel_size=(1, 1), stride=(1, 1), bias=False)\n",
            "          (norm2): BatchNorm2d(128, eps=1e-05, momentum=0.1, affine=True, track_running_stats=True)\n",
            "          (relu2): ReLU(inplace=True)\n",
            "          (conv2): Conv2d(128, 32, kernel_size=(3, 3), stride=(1, 1), padding=(1, 1), bias=False)\n",
            "        )\n",
            "      )\n",
            "      (denselayer10): _DenseLayer(\n",
            "        (layers): Sequential(\n",
            "          (norm1): BatchNorm2d(544, eps=1e-05, momentum=0.1, affine=True, track_running_stats=True)\n",
            "          (relu1): ReLU(inplace=True)\n",
            "          (conv1): Conv2d(544, 128, kernel_size=(1, 1), stride=(1, 1), bias=False)\n",
            "          (norm2): BatchNorm2d(128, eps=1e-05, momentum=0.1, affine=True, track_running_stats=True)\n",
            "          (relu2): ReLU(inplace=True)\n",
            "          (conv2): Conv2d(128, 32, kernel_size=(3, 3), stride=(1, 1), padding=(1, 1), bias=False)\n",
            "        )\n",
            "      )\n",
            "      (denselayer11): _DenseLayer(\n",
            "        (layers): Sequential(\n",
            "          (norm1): BatchNorm2d(576, eps=1e-05, momentum=0.1, affine=True, track_running_stats=True)\n",
            "          (relu1): ReLU(inplace=True)\n",
            "          (conv1): Conv2d(576, 128, kernel_size=(1, 1), stride=(1, 1), bias=False)\n",
            "          (norm2): BatchNorm2d(128, eps=1e-05, momentum=0.1, affine=True, track_running_stats=True)\n",
            "          (relu2): ReLU(inplace=True)\n",
            "          (conv2): Conv2d(128, 32, kernel_size=(3, 3), stride=(1, 1), padding=(1, 1), bias=False)\n",
            "        )\n",
            "      )\n",
            "      (denselayer12): _DenseLayer(\n",
            "        (layers): Sequential(\n",
            "          (norm1): BatchNorm2d(608, eps=1e-05, momentum=0.1, affine=True, track_running_stats=True)\n",
            "          (relu1): ReLU(inplace=True)\n",
            "          (conv1): Conv2d(608, 128, kernel_size=(1, 1), stride=(1, 1), bias=False)\n",
            "          (norm2): BatchNorm2d(128, eps=1e-05, momentum=0.1, affine=True, track_running_stats=True)\n",
            "          (relu2): ReLU(inplace=True)\n",
            "          (conv2): Conv2d(128, 32, kernel_size=(3, 3), stride=(1, 1), padding=(1, 1), bias=False)\n",
            "        )\n",
            "      )\n",
            "      (denselayer13): _DenseLayer(\n",
            "        (layers): Sequential(\n",
            "          (norm1): BatchNorm2d(640, eps=1e-05, momentum=0.1, affine=True, track_running_stats=True)\n",
            "          (relu1): ReLU(inplace=True)\n",
            "          (conv1): Conv2d(640, 128, kernel_size=(1, 1), stride=(1, 1), bias=False)\n",
            "          (norm2): BatchNorm2d(128, eps=1e-05, momentum=0.1, affine=True, track_running_stats=True)\n",
            "          (relu2): ReLU(inplace=True)\n",
            "          (conv2): Conv2d(128, 32, kernel_size=(3, 3), stride=(1, 1), padding=(1, 1), bias=False)\n",
            "        )\n",
            "      )\n",
            "      (denselayer14): _DenseLayer(\n",
            "        (layers): Sequential(\n",
            "          (norm1): BatchNorm2d(672, eps=1e-05, momentum=0.1, affine=True, track_running_stats=True)\n",
            "          (relu1): ReLU(inplace=True)\n",
            "          (conv1): Conv2d(672, 128, kernel_size=(1, 1), stride=(1, 1), bias=False)\n",
            "          (norm2): BatchNorm2d(128, eps=1e-05, momentum=0.1, affine=True, track_running_stats=True)\n",
            "          (relu2): ReLU(inplace=True)\n",
            "          (conv2): Conv2d(128, 32, kernel_size=(3, 3), stride=(1, 1), padding=(1, 1), bias=False)\n",
            "        )\n",
            "      )\n",
            "      (denselayer15): _DenseLayer(\n",
            "        (layers): Sequential(\n",
            "          (norm1): BatchNorm2d(704, eps=1e-05, momentum=0.1, affine=True, track_running_stats=True)\n",
            "          (relu1): ReLU(inplace=True)\n",
            "          (conv1): Conv2d(704, 128, kernel_size=(1, 1), stride=(1, 1), bias=False)\n",
            "          (norm2): BatchNorm2d(128, eps=1e-05, momentum=0.1, affine=True, track_running_stats=True)\n",
            "          (relu2): ReLU(inplace=True)\n",
            "          (conv2): Conv2d(128, 32, kernel_size=(3, 3), stride=(1, 1), padding=(1, 1), bias=False)\n",
            "        )\n",
            "      )\n",
            "      (denselayer16): _DenseLayer(\n",
            "        (layers): Sequential(\n",
            "          (norm1): BatchNorm2d(736, eps=1e-05, momentum=0.1, affine=True, track_running_stats=True)\n",
            "          (relu1): ReLU(inplace=True)\n",
            "          (conv1): Conv2d(736, 128, kernel_size=(1, 1), stride=(1, 1), bias=False)\n",
            "          (norm2): BatchNorm2d(128, eps=1e-05, momentum=0.1, affine=True, track_running_stats=True)\n",
            "          (relu2): ReLU(inplace=True)\n",
            "          (conv2): Conv2d(128, 32, kernel_size=(3, 3), stride=(1, 1), padding=(1, 1), bias=False)\n",
            "        )\n",
            "      )\n",
            "      (denselayer17): _DenseLayer(\n",
            "        (layers): Sequential(\n",
            "          (norm1): BatchNorm2d(768, eps=1e-05, momentum=0.1, affine=True, track_running_stats=True)\n",
            "          (relu1): ReLU(inplace=True)\n",
            "          (conv1): Conv2d(768, 128, kernel_size=(1, 1), stride=(1, 1), bias=False)\n",
            "          (norm2): BatchNorm2d(128, eps=1e-05, momentum=0.1, affine=True, track_running_stats=True)\n",
            "          (relu2): ReLU(inplace=True)\n",
            "          (conv2): Conv2d(128, 32, kernel_size=(3, 3), stride=(1, 1), padding=(1, 1), bias=False)\n",
            "        )\n",
            "      )\n",
            "      (denselayer18): _DenseLayer(\n",
            "        (layers): Sequential(\n",
            "          (norm1): BatchNorm2d(800, eps=1e-05, momentum=0.1, affine=True, track_running_stats=True)\n",
            "          (relu1): ReLU(inplace=True)\n",
            "          (conv1): Conv2d(800, 128, kernel_size=(1, 1), stride=(1, 1), bias=False)\n",
            "          (norm2): BatchNorm2d(128, eps=1e-05, momentum=0.1, affine=True, track_running_stats=True)\n",
            "          (relu2): ReLU(inplace=True)\n",
            "          (conv2): Conv2d(128, 32, kernel_size=(3, 3), stride=(1, 1), padding=(1, 1), bias=False)\n",
            "        )\n",
            "      )\n",
            "      (denselayer19): _DenseLayer(\n",
            "        (layers): Sequential(\n",
            "          (norm1): BatchNorm2d(832, eps=1e-05, momentum=0.1, affine=True, track_running_stats=True)\n",
            "          (relu1): ReLU(inplace=True)\n",
            "          (conv1): Conv2d(832, 128, kernel_size=(1, 1), stride=(1, 1), bias=False)\n",
            "          (norm2): BatchNorm2d(128, eps=1e-05, momentum=0.1, affine=True, track_running_stats=True)\n",
            "          (relu2): ReLU(inplace=True)\n",
            "          (conv2): Conv2d(128, 32, kernel_size=(3, 3), stride=(1, 1), padding=(1, 1), bias=False)\n",
            "        )\n",
            "      )\n",
            "      (denselayer20): _DenseLayer(\n",
            "        (layers): Sequential(\n",
            "          (norm1): BatchNorm2d(864, eps=1e-05, momentum=0.1, affine=True, track_running_stats=True)\n",
            "          (relu1): ReLU(inplace=True)\n",
            "          (conv1): Conv2d(864, 128, kernel_size=(1, 1), stride=(1, 1), bias=False)\n",
            "          (norm2): BatchNorm2d(128, eps=1e-05, momentum=0.1, affine=True, track_running_stats=True)\n",
            "          (relu2): ReLU(inplace=True)\n",
            "          (conv2): Conv2d(128, 32, kernel_size=(3, 3), stride=(1, 1), padding=(1, 1), bias=False)\n",
            "        )\n",
            "      )\n",
            "      (denselayer21): _DenseLayer(\n",
            "        (layers): Sequential(\n",
            "          (norm1): BatchNorm2d(896, eps=1e-05, momentum=0.1, affine=True, track_running_stats=True)\n",
            "          (relu1): ReLU(inplace=True)\n",
            "          (conv1): Conv2d(896, 128, kernel_size=(1, 1), stride=(1, 1), bias=False)\n",
            "          (norm2): BatchNorm2d(128, eps=1e-05, momentum=0.1, affine=True, track_running_stats=True)\n",
            "          (relu2): ReLU(inplace=True)\n",
            "          (conv2): Conv2d(128, 32, kernel_size=(3, 3), stride=(1, 1), padding=(1, 1), bias=False)\n",
            "        )\n",
            "      )\n",
            "      (denselayer22): _DenseLayer(\n",
            "        (layers): Sequential(\n",
            "          (norm1): BatchNorm2d(928, eps=1e-05, momentum=0.1, affine=True, track_running_stats=True)\n",
            "          (relu1): ReLU(inplace=True)\n",
            "          (conv1): Conv2d(928, 128, kernel_size=(1, 1), stride=(1, 1), bias=False)\n",
            "          (norm2): BatchNorm2d(128, eps=1e-05, momentum=0.1, affine=True, track_running_stats=True)\n",
            "          (relu2): ReLU(inplace=True)\n",
            "          (conv2): Conv2d(128, 32, kernel_size=(3, 3), stride=(1, 1), padding=(1, 1), bias=False)\n",
            "        )\n",
            "      )\n",
            "      (denselayer23): _DenseLayer(\n",
            "        (layers): Sequential(\n",
            "          (norm1): BatchNorm2d(960, eps=1e-05, momentum=0.1, affine=True, track_running_stats=True)\n",
            "          (relu1): ReLU(inplace=True)\n",
            "          (conv1): Conv2d(960, 128, kernel_size=(1, 1), stride=(1, 1), bias=False)\n",
            "          (norm2): BatchNorm2d(128, eps=1e-05, momentum=0.1, affine=True, track_running_stats=True)\n",
            "          (relu2): ReLU(inplace=True)\n",
            "          (conv2): Conv2d(128, 32, kernel_size=(3, 3), stride=(1, 1), padding=(1, 1), bias=False)\n",
            "        )\n",
            "      )\n",
            "      (denselayer24): _DenseLayer(\n",
            "        (layers): Sequential(\n",
            "          (norm1): BatchNorm2d(992, eps=1e-05, momentum=0.1, affine=True, track_running_stats=True)\n",
            "          (relu1): ReLU(inplace=True)\n",
            "          (conv1): Conv2d(992, 128, kernel_size=(1, 1), stride=(1, 1), bias=False)\n",
            "          (norm2): BatchNorm2d(128, eps=1e-05, momentum=0.1, affine=True, track_running_stats=True)\n",
            "          (relu2): ReLU(inplace=True)\n",
            "          (conv2): Conv2d(128, 32, kernel_size=(3, 3), stride=(1, 1), padding=(1, 1), bias=False)\n",
            "        )\n",
            "      )\n",
            "    )\n",
            "    (transition3): _Transition(\n",
            "      (norm): BatchNorm2d(1024, eps=1e-05, momentum=0.1, affine=True, track_running_stats=True)\n",
            "      (relu): ReLU(inplace=True)\n",
            "      (conv): Conv2d(1024, 512, kernel_size=(1, 1), stride=(1, 1), bias=False)\n",
            "      (pool): AvgPool2d(kernel_size=2, stride=2, padding=0)\n",
            "    )\n",
            "    (denseblock4): _DenseBlock(\n",
            "      (denselayer1): _DenseLayer(\n",
            "        (layers): Sequential(\n",
            "          (norm1): BatchNorm2d(512, eps=1e-05, momentum=0.1, affine=True, track_running_stats=True)\n",
            "          (relu1): ReLU(inplace=True)\n",
            "          (conv1): Conv2d(512, 128, kernel_size=(1, 1), stride=(1, 1), bias=False)\n",
            "          (norm2): BatchNorm2d(128, eps=1e-05, momentum=0.1, affine=True, track_running_stats=True)\n",
            "          (relu2): ReLU(inplace=True)\n",
            "          (conv2): Conv2d(128, 32, kernel_size=(3, 3), stride=(1, 1), padding=(1, 1), bias=False)\n",
            "        )\n",
            "      )\n",
            "      (denselayer2): _DenseLayer(\n",
            "        (layers): Sequential(\n",
            "          (norm1): BatchNorm2d(544, eps=1e-05, momentum=0.1, affine=True, track_running_stats=True)\n",
            "          (relu1): ReLU(inplace=True)\n",
            "          (conv1): Conv2d(544, 128, kernel_size=(1, 1), stride=(1, 1), bias=False)\n",
            "          (norm2): BatchNorm2d(128, eps=1e-05, momentum=0.1, affine=True, track_running_stats=True)\n",
            "          (relu2): ReLU(inplace=True)\n",
            "          (conv2): Conv2d(128, 32, kernel_size=(3, 3), stride=(1, 1), padding=(1, 1), bias=False)\n",
            "        )\n",
            "      )\n",
            "      (denselayer3): _DenseLayer(\n",
            "        (layers): Sequential(\n",
            "          (norm1): BatchNorm2d(576, eps=1e-05, momentum=0.1, affine=True, track_running_stats=True)\n",
            "          (relu1): ReLU(inplace=True)\n",
            "          (conv1): Conv2d(576, 128, kernel_size=(1, 1), stride=(1, 1), bias=False)\n",
            "          (norm2): BatchNorm2d(128, eps=1e-05, momentum=0.1, affine=True, track_running_stats=True)\n",
            "          (relu2): ReLU(inplace=True)\n",
            "          (conv2): Conv2d(128, 32, kernel_size=(3, 3), stride=(1, 1), padding=(1, 1), bias=False)\n",
            "        )\n",
            "      )\n",
            "      (denselayer4): _DenseLayer(\n",
            "        (layers): Sequential(\n",
            "          (norm1): BatchNorm2d(608, eps=1e-05, momentum=0.1, affine=True, track_running_stats=True)\n",
            "          (relu1): ReLU(inplace=True)\n",
            "          (conv1): Conv2d(608, 128, kernel_size=(1, 1), stride=(1, 1), bias=False)\n",
            "          (norm2): BatchNorm2d(128, eps=1e-05, momentum=0.1, affine=True, track_running_stats=True)\n",
            "          (relu2): ReLU(inplace=True)\n",
            "          (conv2): Conv2d(128, 32, kernel_size=(3, 3), stride=(1, 1), padding=(1, 1), bias=False)\n",
            "        )\n",
            "      )\n",
            "      (denselayer5): _DenseLayer(\n",
            "        (layers): Sequential(\n",
            "          (norm1): BatchNorm2d(640, eps=1e-05, momentum=0.1, affine=True, track_running_stats=True)\n",
            "          (relu1): ReLU(inplace=True)\n",
            "          (conv1): Conv2d(640, 128, kernel_size=(1, 1), stride=(1, 1), bias=False)\n",
            "          (norm2): BatchNorm2d(128, eps=1e-05, momentum=0.1, affine=True, track_running_stats=True)\n",
            "          (relu2): ReLU(inplace=True)\n",
            "          (conv2): Conv2d(128, 32, kernel_size=(3, 3), stride=(1, 1), padding=(1, 1), bias=False)\n",
            "        )\n",
            "      )\n",
            "      (denselayer6): _DenseLayer(\n",
            "        (layers): Sequential(\n",
            "          (norm1): BatchNorm2d(672, eps=1e-05, momentum=0.1, affine=True, track_running_stats=True)\n",
            "          (relu1): ReLU(inplace=True)\n",
            "          (conv1): Conv2d(672, 128, kernel_size=(1, 1), stride=(1, 1), bias=False)\n",
            "          (norm2): BatchNorm2d(128, eps=1e-05, momentum=0.1, affine=True, track_running_stats=True)\n",
            "          (relu2): ReLU(inplace=True)\n",
            "          (conv2): Conv2d(128, 32, kernel_size=(3, 3), stride=(1, 1), padding=(1, 1), bias=False)\n",
            "        )\n",
            "      )\n",
            "      (denselayer7): _DenseLayer(\n",
            "        (layers): Sequential(\n",
            "          (norm1): BatchNorm2d(704, eps=1e-05, momentum=0.1, affine=True, track_running_stats=True)\n",
            "          (relu1): ReLU(inplace=True)\n",
            "          (conv1): Conv2d(704, 128, kernel_size=(1, 1), stride=(1, 1), bias=False)\n",
            "          (norm2): BatchNorm2d(128, eps=1e-05, momentum=0.1, affine=True, track_running_stats=True)\n",
            "          (relu2): ReLU(inplace=True)\n",
            "          (conv2): Conv2d(128, 32, kernel_size=(3, 3), stride=(1, 1), padding=(1, 1), bias=False)\n",
            "        )\n",
            "      )\n",
            "      (denselayer8): _DenseLayer(\n",
            "        (layers): Sequential(\n",
            "          (norm1): BatchNorm2d(736, eps=1e-05, momentum=0.1, affine=True, track_running_stats=True)\n",
            "          (relu1): ReLU(inplace=True)\n",
            "          (conv1): Conv2d(736, 128, kernel_size=(1, 1), stride=(1, 1), bias=False)\n",
            "          (norm2): BatchNorm2d(128, eps=1e-05, momentum=0.1, affine=True, track_running_stats=True)\n",
            "          (relu2): ReLU(inplace=True)\n",
            "          (conv2): Conv2d(128, 32, kernel_size=(3, 3), stride=(1, 1), padding=(1, 1), bias=False)\n",
            "        )\n",
            "      )\n",
            "      (denselayer9): _DenseLayer(\n",
            "        (layers): Sequential(\n",
            "          (norm1): BatchNorm2d(768, eps=1e-05, momentum=0.1, affine=True, track_running_stats=True)\n",
            "          (relu1): ReLU(inplace=True)\n",
            "          (conv1): Conv2d(768, 128, kernel_size=(1, 1), stride=(1, 1), bias=False)\n",
            "          (norm2): BatchNorm2d(128, eps=1e-05, momentum=0.1, affine=True, track_running_stats=True)\n",
            "          (relu2): ReLU(inplace=True)\n",
            "          (conv2): Conv2d(128, 32, kernel_size=(3, 3), stride=(1, 1), padding=(1, 1), bias=False)\n",
            "        )\n",
            "      )\n",
            "      (denselayer10): _DenseLayer(\n",
            "        (layers): Sequential(\n",
            "          (norm1): BatchNorm2d(800, eps=1e-05, momentum=0.1, affine=True, track_running_stats=True)\n",
            "          (relu1): ReLU(inplace=True)\n",
            "          (conv1): Conv2d(800, 128, kernel_size=(1, 1), stride=(1, 1), bias=False)\n",
            "          (norm2): BatchNorm2d(128, eps=1e-05, momentum=0.1, affine=True, track_running_stats=True)\n",
            "          (relu2): ReLU(inplace=True)\n",
            "          (conv2): Conv2d(128, 32, kernel_size=(3, 3), stride=(1, 1), padding=(1, 1), bias=False)\n",
            "        )\n",
            "      )\n",
            "      (denselayer11): _DenseLayer(\n",
            "        (layers): Sequential(\n",
            "          (norm1): BatchNorm2d(832, eps=1e-05, momentum=0.1, affine=True, track_running_stats=True)\n",
            "          (relu1): ReLU(inplace=True)\n",
            "          (conv1): Conv2d(832, 128, kernel_size=(1, 1), stride=(1, 1), bias=False)\n",
            "          (norm2): BatchNorm2d(128, eps=1e-05, momentum=0.1, affine=True, track_running_stats=True)\n",
            "          (relu2): ReLU(inplace=True)\n",
            "          (conv2): Conv2d(128, 32, kernel_size=(3, 3), stride=(1, 1), padding=(1, 1), bias=False)\n",
            "        )\n",
            "      )\n",
            "      (denselayer12): _DenseLayer(\n",
            "        (layers): Sequential(\n",
            "          (norm1): BatchNorm2d(864, eps=1e-05, momentum=0.1, affine=True, track_running_stats=True)\n",
            "          (relu1): ReLU(inplace=True)\n",
            "          (conv1): Conv2d(864, 128, kernel_size=(1, 1), stride=(1, 1), bias=False)\n",
            "          (norm2): BatchNorm2d(128, eps=1e-05, momentum=0.1, affine=True, track_running_stats=True)\n",
            "          (relu2): ReLU(inplace=True)\n",
            "          (conv2): Conv2d(128, 32, kernel_size=(3, 3), stride=(1, 1), padding=(1, 1), bias=False)\n",
            "        )\n",
            "      )\n",
            "      (denselayer13): _DenseLayer(\n",
            "        (layers): Sequential(\n",
            "          (norm1): BatchNorm2d(896, eps=1e-05, momentum=0.1, affine=True, track_running_stats=True)\n",
            "          (relu1): ReLU(inplace=True)\n",
            "          (conv1): Conv2d(896, 128, kernel_size=(1, 1), stride=(1, 1), bias=False)\n",
            "          (norm2): BatchNorm2d(128, eps=1e-05, momentum=0.1, affine=True, track_running_stats=True)\n",
            "          (relu2): ReLU(inplace=True)\n",
            "          (conv2): Conv2d(128, 32, kernel_size=(3, 3), stride=(1, 1), padding=(1, 1), bias=False)\n",
            "        )\n",
            "      )\n",
            "      (denselayer14): _DenseLayer(\n",
            "        (layers): Sequential(\n",
            "          (norm1): BatchNorm2d(928, eps=1e-05, momentum=0.1, affine=True, track_running_stats=True)\n",
            "          (relu1): ReLU(inplace=True)\n",
            "          (conv1): Conv2d(928, 128, kernel_size=(1, 1), stride=(1, 1), bias=False)\n",
            "          (norm2): BatchNorm2d(128, eps=1e-05, momentum=0.1, affine=True, track_running_stats=True)\n",
            "          (relu2): ReLU(inplace=True)\n",
            "          (conv2): Conv2d(128, 32, kernel_size=(3, 3), stride=(1, 1), padding=(1, 1), bias=False)\n",
            "        )\n",
            "      )\n",
            "      (denselayer15): _DenseLayer(\n",
            "        (layers): Sequential(\n",
            "          (norm1): BatchNorm2d(960, eps=1e-05, momentum=0.1, affine=True, track_running_stats=True)\n",
            "          (relu1): ReLU(inplace=True)\n",
            "          (conv1): Conv2d(960, 128, kernel_size=(1, 1), stride=(1, 1), bias=False)\n",
            "          (norm2): BatchNorm2d(128, eps=1e-05, momentum=0.1, affine=True, track_running_stats=True)\n",
            "          (relu2): ReLU(inplace=True)\n",
            "          (conv2): Conv2d(128, 32, kernel_size=(3, 3), stride=(1, 1), padding=(1, 1), bias=False)\n",
            "        )\n",
            "      )\n",
            "      (denselayer16): _DenseLayer(\n",
            "        (layers): Sequential(\n",
            "          (norm1): BatchNorm2d(992, eps=1e-05, momentum=0.1, affine=True, track_running_stats=True)\n",
            "          (relu1): ReLU(inplace=True)\n",
            "          (conv1): Conv2d(992, 128, kernel_size=(1, 1), stride=(1, 1), bias=False)\n",
            "          (norm2): BatchNorm2d(128, eps=1e-05, momentum=0.1, affine=True, track_running_stats=True)\n",
            "          (relu2): ReLU(inplace=True)\n",
            "          (conv2): Conv2d(128, 32, kernel_size=(3, 3), stride=(1, 1), padding=(1, 1), bias=False)\n",
            "        )\n",
            "      )\n",
            "    )\n",
            "    (norm5): BatchNorm2d(1024, eps=1e-05, momentum=0.1, affine=True, track_running_stats=True)\n",
            "  )\n",
            "  (class_layers): Sequential(\n",
            "    (relu): ReLU(inplace=True)\n",
            "    (pool): AdaptiveAvgPool2d(output_size=1)\n",
            "    (flatten): Flatten(start_dim=1, end_dim=-1)\n",
            "    (out): Linear(in_features=1024, out_features=3, bias=True)\n",
            "  )\n",
            ")\n"
          ]
        }
      ]
    },
    {
      "cell_type": "code",
      "source": [
        "import torch.nn as nn\n",
        "from monai.networks.layers.factories import Conv\n",
        "from monai.networks.nets import UNet\n",
        "\n",
        "\n",
        "class MyUNet(UNet):\n",
        "    def _get_down_layer(self, in_channels: int, out_channels: int, strides: int, is_top: bool) -> nn.Module:\n",
        "        conv_type = Conv[Conv.CONV, self.dimensions]\n",
        "        return conv_type(in_channels, out_channels, self.kernel_size)\n",
        "\n",
        "\n",
        "unet = MyUNet(2, 1, 1, [2, 4, 8, 16], [2, 2, 2])\n",
        "print(unet)"
      ],
      "metadata": {
        "colab": {
          "base_uri": "https://localhost:8080/"
        },
        "id": "OoagNnGZXtxX",
        "outputId": "caf884df-746d-44cb-da04-38bdae1ba98e"
      },
      "execution_count": 59,
      "outputs": [
        {
          "output_type": "stream",
          "name": "stdout",
          "text": [
            "MyUNet(\n",
            "  (model): Sequential(\n",
            "    (0): Conv2d(1, 2, kernel_size=(3, 3), stride=(1, 1))\n",
            "    (1): SkipConnection(\n",
            "      (submodule): Sequential(\n",
            "        (0): Conv2d(2, 4, kernel_size=(3, 3), stride=(1, 1))\n",
            "        (1): SkipConnection(\n",
            "          (submodule): Sequential(\n",
            "            (0): Conv2d(4, 8, kernel_size=(3, 3), stride=(1, 1))\n",
            "            (1): SkipConnection(\n",
            "              (submodule): Conv2d(8, 16, kernel_size=(3, 3), stride=(1, 1))\n",
            "            )\n",
            "            (2): Convolution(\n",
            "              (conv): ConvTranspose2d(24, 4, kernel_size=(3, 3), stride=(2, 2), padding=(1, 1), output_padding=(1, 1))\n",
            "              (adn): ADN(\n",
            "                (N): InstanceNorm2d(4, eps=1e-05, momentum=0.1, affine=False, track_running_stats=False)\n",
            "                (D): Dropout(p=0.0, inplace=False)\n",
            "                (A): PReLU(num_parameters=1)\n",
            "              )\n",
            "            )\n",
            "          )\n",
            "        )\n",
            "        (2): Convolution(\n",
            "          (conv): ConvTranspose2d(8, 2, kernel_size=(3, 3), stride=(2, 2), padding=(1, 1), output_padding=(1, 1))\n",
            "          (adn): ADN(\n",
            "            (N): InstanceNorm2d(2, eps=1e-05, momentum=0.1, affine=False, track_running_stats=False)\n",
            "            (D): Dropout(p=0.0, inplace=False)\n",
            "            (A): PReLU(num_parameters=1)\n",
            "          )\n",
            "        )\n",
            "      )\n",
            "    )\n",
            "    (2): Convolution(\n",
            "      (conv): ConvTranspose2d(4, 1, kernel_size=(3, 3), stride=(2, 2), padding=(1, 1), output_padding=(1, 1))\n",
            "    )\n",
            "  )\n",
            ")\n"
          ]
        }
      ]
    },
    {
      "cell_type": "code",
      "source": [
        ""
      ],
      "metadata": {
        "id": "ZLK8jvNbX0sn"
      },
      "execution_count": null,
      "outputs": []
    }
  ]
}